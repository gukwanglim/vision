{
 "cells": [
  {
   "cell_type": "code",
   "execution_count": 2,
   "id": "ed291d5c",
   "metadata": {},
   "outputs": [],
   "source": [
    "import cv2, sys\n",
    "import numpy as np\n",
    "\n",
    "import matplotlib.pyplot as plt"
   ]
  },
  {
   "cell_type": "code",
   "execution_count": 4,
   "id": "6896b614",
   "metadata": {},
   "outputs": [],
   "source": [
    "img = cv2.imread('../ch_1/figure/fig/cat.bmp')\n",
    "img_resize = cv2.resize(img, (200, 200), interpolation = cv2.INTER_AREA)\n",
    "\n",
    "if img is None:\n",
    "    print('image read failed')\n",
    "    sys.exit()\n",
    "    \n",
    "cv2.namedWindow('image', cv2.WINDOW_AUTOSIZE)\n",
    "cv2.imshow('image', img)\n",
    "cv2.imshow('image_re', img_resize)\n",
    "\n",
    "while True:\n",
    "    key = cv2.waitKey()\n",
    "    \n",
    "    if key == 27 or key == ord('q'):\n",
    "        break\n",
    "        \n",
    "cv2.destroyAllWindows()"
   ]
  },
  {
   "cell_type": "code",
   "execution_count": 2,
   "id": "a1492092",
   "metadata": {},
   "outputs": [],
   "source": [
    "import glob"
   ]
  },
  {
   "cell_type": "code",
   "execution_count": 3,
   "id": "e8f23fc9",
   "metadata": {},
   "outputs": [],
   "source": [
    "img_lista = glob.glob('../ch_1/figure/images/*.*')\n",
    "# print(img_lista)\n",
    "\n",
    "cv2.namedWindow('scene', cv2.WINDOW_NORMAL)\n",
    "cv2.setWindowProperty('scene', cv2.WND_PROP_FULLSCREEN,\n",
    "                     cv2.WINDOW_FULLSCREEN)\n",
    "\n",
    "idx = 0\n",
    "while True:\n",
    "    img = cv2.imread(img_lista[idx])\n",
    "    \n",
    "    if img is None:\n",
    "        print('image read failed')\n",
    "        break\n",
    "        \n",
    "    cv2.imshow('scene', img)\n",
    "    \n",
    "    if cv2.waitKey(3000) == 27:\n",
    "        break\n",
    "        \n",
    "    idx += 1\n",
    "    \n",
    "    if idx >= len(img_lista):\n",
    "        idx = 0\n",
    "        \n",
    "cv2.destroyAllWindows()"
   ]
  },
  {
   "cell_type": "code",
   "execution_count": 6,
   "id": "71ecb930",
   "metadata": {},
   "outputs": [],
   "source": [
    "src = cv2.imread('../ch_1/figure/fig/airplane.bmp')\n",
    "mask = cv2.imread('../ch_1/figure/fig/mask_plane.bmp', 0)\n",
    "dst = cv2.imread('../ch_1/figure/fig/field.bmp')\n",
    "\n",
    "if src is None or mask is None or dst is None:\n",
    "    print('image read failed')\n",
    "    sys.exit()\n",
    "\n",
    "dst1 = cv2.copyTo(src, mask)\n",
    "    \n",
    "cv2.copyTo(src, mask, dst)\n",
    "    \n",
    "cv2.imshow('src', src)\n",
    "cv2.imshow('mask', mask)\n",
    "cv2.imshow('dst', dst)\n",
    "cv2.imshow('dst1', dst1)\n",
    "\n",
    "cv2.waitKey()\n",
    "cv2.destroyAllWindows()"
   ]
  },
  {
   "cell_type": "code",
   "execution_count": 16,
   "id": "0b31c5c4",
   "metadata": {},
   "outputs": [],
   "source": [
    "img = np.full((600, 1200, 3), (255, 255, 255), np.uint8)\n",
    "\n",
    "cv2.line(img, (50, 50), (300, 50), (0, 0,255), 4, cv2.LINE_8)\n",
    "cv2.arrowedLine(img, (300, 50), (300, 300), (0, 0,255), 4, cv2.LINE_8)\n",
    "\n",
    "cv2.rectangle(img, (50, 400), (200, 500), (0, 0,255), 4, cv2.LINE_8)\n",
    "cv2.rectangle(img, (50, 400, 100, 100), (0, 0,255), -1, cv2.LINE_8)\n",
    "\n",
    "cv2.circle(img, (300, 300), 100, (255, 0, 0), 3, cv2.LINE_AA)\n",
    "\n",
    "cv2.putText(img, 'Opnecv', (400, 500), cv2.FONT_HERSHEY_SCRIPT_COMPLEX, 0.8, (0, 0, 0), 1, cv2.LINE_AA)\n",
    "\n",
    "cv2.imshow('img', img)\n",
    "\n",
    "cv2.waitKey()\n",
    "cv2.destroyAllWindows()"
   ]
  },
  {
   "cell_type": "code",
   "execution_count": 21,
   "id": "4db2189b",
   "metadata": {},
   "outputs": [],
   "source": [
    "cap = cv2.VideoCapture(0)\n",
    "\n",
    "if not cap.isOpened():\n",
    "    print('video open failed')\n",
    "    sys.exit()\n",
    "    \n",
    "w = int(cap.get(cv2.CAP_PROP_FRAME_WIDTH))\n",
    "h = int(cap.get(cv2.CAP_PROP_FRAME_HEIGHT))\n",
    "fps = int(cap.get(cv2.CAP_PROP_FPS)*0.7)\n",
    "fourcc = cv2.VideoWriter_fourcc(*'DIVX')\n",
    "\n",
    "out = cv2.VideoWriter('output_blur.avi', fourcc, fps, (w, h))\n",
    "    \n",
    "while True:\n",
    "    ret, frame = cap.read()\n",
    "    \n",
    "    if not ret:\n",
    "        print('video read failed')\n",
    "        break\n",
    "        \n",
    "    blur = cv2.GaussianBlur(frame, (0, 0), 3)\n",
    "    edge = cv2.Canny(frame, 50, 150)\n",
    "    out.write(blur)\n",
    "        \n",
    "    cv2.imshow('image', frame)\n",
    "    cv2.imshow('edge', edge)\n",
    "    cv2.imshow('blur', blur)\n",
    "    \n",
    "    keycode = cv2.waitKey(30)\n",
    "    \n",
    "    if keycode == 27:\n",
    "        break\n",
    "        \n",
    "    elif keycode == ord('i'):\n",
    "        inv = 255 - edge\n",
    "    \n",
    "    elif keycode == ord('s'):\n",
    "        cv2.imwrite('my_photo.png', blur)\n",
    "        \n",
    "cap.release()\n",
    "out.release()\n",
    "cv2.destroyAllWindows()"
   ]
  },
  {
   "cell_type": "code",
   "execution_count": 22,
   "id": "c61db515",
   "metadata": {
    "collapsed": true
   },
   "outputs": [
    {
     "name": "stdout",
     "output_type": "stream",
     "text": [
      "left button down :  120 127\n",
      "left button down :  111 233\n",
      "left button down :  233 280\n",
      "left button down :  363 310\n",
      "left button down :  110 287\n",
      "left button down :  487 327\n",
      "left button down :  452 380\n",
      "left button down :  472 378\n"
     ]
    }
   ],
   "source": [
    "def call_mouse(event, x, y, flags, param):\n",
    "    global oldx, oldy\n",
    "    \n",
    "    if event == cv2.EVENT_LBUTTONDOWN:\n",
    "        print('left button down : ', x, y)\n",
    "        oldx, oldy = x, y\n",
    "        \n",
    "    elif event == cv2.EVENT_MOUSEMOVE:\n",
    "        if flags & cv2.EVENT_FLAG_LBUTTON:\n",
    "            cv2.line(img, (oldx, oldy), (x, y), (0, 0, 255), 4, cv2.LINE_AA)\n",
    "            cv2.imshow('image', img)\n",
    "            \n",
    "            oldx, oldy = x, y\n",
    "        \n",
    "\n",
    "img = np.ones((500, 700, 3), np.uint8)*255\n",
    "\n",
    "cv2.namedWindow('image')\n",
    "\n",
    "cv2.setMouseCallback('image', call_mouse, img)\n",
    "cv2.imshow('image', img)\n",
    "\n",
    "cv2.waitKey()\n",
    "cv2.destroyAllWindows()"
   ]
  },
  {
   "cell_type": "code",
   "execution_count": 1,
   "id": "2addf8a8",
   "metadata": {},
   "outputs": [
    {
     "ename": "NameError",
     "evalue": "name 'cv2' is not defined",
     "output_type": "error",
     "traceback": [
      "\u001b[1;31m---------------------------------------------------------------------------\u001b[0m",
      "\u001b[1;31mNameError\u001b[0m                                 Traceback (most recent call last)",
      "\u001b[1;32m~\\AppData\\Local\\Temp/ipykernel_4976/3526025437.py\u001b[0m in \u001b[0;36m<module>\u001b[1;34m\u001b[0m\n\u001b[0;32m      5\u001b[0m \u001b[1;33m\u001b[0m\u001b[0m\n\u001b[0;32m      6\u001b[0m \u001b[1;33m\u001b[0m\u001b[0m\n\u001b[1;32m----> 7\u001b[1;33m \u001b[0mimg\u001b[0m \u001b[1;33m=\u001b[0m \u001b[0mcv2\u001b[0m\u001b[1;33m.\u001b[0m\u001b[0mimread\u001b[0m\u001b[1;33m(\u001b[0m\u001b[1;34m'../ch_1/figure/fig/puppy.bmp'\u001b[0m\u001b[1;33m,\u001b[0m \u001b[0mcv2\u001b[0m\u001b[1;33m.\u001b[0m\u001b[0mIMREAD_GRAYSCALE\u001b[0m\u001b[1;33m)\u001b[0m\u001b[1;33m\u001b[0m\u001b[1;33m\u001b[0m\u001b[0m\n\u001b[0m\u001b[0;32m      8\u001b[0m \u001b[1;33m\u001b[0m\u001b[0m\n\u001b[0;32m      9\u001b[0m \u001b[0mimg1\u001b[0m \u001b[1;33m=\u001b[0m \u001b[0mimg\u001b[0m\u001b[1;33m.\u001b[0m\u001b[0mcopy\u001b[0m\u001b[1;33m(\u001b[0m\u001b[1;33m)\u001b[0m\u001b[1;33m\u001b[0m\u001b[1;33m\u001b[0m\u001b[0m\n",
      "\u001b[1;31mNameError\u001b[0m: name 'cv2' is not defined"
     ]
    }
   ],
   "source": [
    "def call_track(pos):\n",
    "    print(pos)\n",
    "    img[:] = np.round(img1*(pos/255), 0)\n",
    "    cv2.imshow('image', img)\n",
    "    \n",
    "\n",
    "img = cv2.imread('../ch_1/figure/fig/puppy.bmp', cv2.IMREAD_GRAYSCALE)\n",
    "\n",
    "img1 = img.copy()\n",
    "\n",
    "cv2.imshow('image', img)\n",
    "\n",
    "cv2.createTrackbar('level', 'image', 0, 255, call_track)\n",
    "\n",
    "cv2.waitKey()\n",
    "cv2.destroyAllWindows()"
   ]
  },
  {
   "cell_type": "code",
   "execution_count": 5,
   "id": "9f43d522",
   "metadata": {},
   "outputs": [],
   "source": [
    "src1 = cv2.imread('../Ch_3_Basic_img_proc/fig/lenna256.bmp', 0)\n",
    "src2 = np.zeros((256, 256), np.uint8)\n",
    "\n",
    "cv2.circle(src2, (128, 128), 100, 200, -1)\n",
    "cv2.circle(src2, (128, 128), 50, 50, -1)\n",
    "\n",
    "dst1 = cv2.add(src1, src2)\n",
    "dst2 = cv2.addWeighted(src1, 0.5, src2, 0.5, 0.)\n",
    "dst3 = cv2.subtract(src2, src1)\n",
    "dst4 = cv2.absdiff(src1, src2)\n",
    "\n",
    "cv2.imshow('src1', src1)\n",
    "cv2.imshow('src2', src2)\n",
    "cv2.imshow('dst1', dst1)\n",
    "cv2.imshow('dst2', dst2)\n",
    "cv2.imshow('dst3', dst3)\n",
    "cv2.imshow('dst4', dst4)\n",
    "\n",
    "cv2.waitKey()\n",
    "cv2.destroyAllWindows()"
   ]
  },
  {
   "cell_type": "code",
   "execution_count": 12,
   "id": "3ee01709",
   "metadata": {},
   "outputs": [],
   "source": [
    "img = cv2.imread('../Ch_3_Basic_img_proc/fig/flowers.jpg', 1)\n",
    "img_hsv = cv2.cvtColor(img, cv2.COLOR_BGR2HSV)\n",
    "\n",
    "cv2.imshow('img', img)\n",
    "\n",
    "b, g, r = cv2.split(img)\n",
    "h, s, v = cv2.split(img_hsv)\n",
    "\n",
    "cv2.imshow('b', b)\n",
    "cv2.imshow('g', g)\n",
    "cv2.imshow('r', r)\n",
    "\n",
    "cv2.imshow('h', h)\n",
    "cv2.imshow('s', s)\n",
    "cv2.imshow('v', v)\n",
    "\n",
    "cv2.waitKey()\n",
    "cv2.destroyAllWindows()"
   ]
  },
  {
   "cell_type": "code",
   "execution_count": 13,
   "id": "23184cbf",
   "metadata": {},
   "outputs": [
    {
     "data": {
      "image/png": "[encoded data removed]",
      "text/plain": [
       "<Figure size 432x288 with 1 Axes>"
      ]
     },
     "metadata": {
      "needs_background": "light"
     },
     "output_type": "display_data"
    }
   ],
   "source": [
    "src = cv2.imread('../Ch_3_Basic_img_proc/fig/lenna.bmp', 0)\n",
    "\n",
    "hist = cv2.calcHist([src], [0], None, [256], [0, 256])\n",
    "\n",
    "cv2.imshow('src', src)\n",
    "\n",
    "plt.plot(hist)\n",
    "plt.show()\n",
    "\n",
    "cv2.waitKey()\n",
    "cv2.destroyAllWindows()"
   ]
  },
  {
   "cell_type": "code",
   "execution_count": 14,
   "id": "c7698e07",
   "metadata": {},
   "outputs": [
    {
     "data": {
      "image/png": "[encoded data removed]",
      "text/plain": [
       "<Figure size 432x288 with 1 Axes>"
      ]
     },
     "metadata": {
      "needs_background": "light"
     },
     "output_type": "display_data"
    }
   ],
   "source": [
    "src = cv2.imread('../Ch_3_Basic_img_proc/fig/lenna.bmp', 1)\n",
    "\n",
    "hist_b = cv2.calcHist([src], [0], None, [256], [0, 256])\n",
    "hist_g = cv2.calcHist([src], [1], None, [256], [0, 256])\n",
    "hist_r = cv2.calcHist([src], [2], None, [256], [0, 256])\n",
    "\n",
    "cv2.imshow('src', src)\n",
    "\n",
    "plt.plot(hist_b, c = 'b')\n",
    "plt.plot(hist_g, c = 'g')\n",
    "plt.plot(hist_r, c = 'r')\n",
    "\n",
    "plt.show()\n",
    "\n",
    "cv2.waitKey()\n",
    "cv2.destroyAllWindows()"
   ]
  },
  {
   "cell_type": "code",
   "execution_count": null,
   "id": "c59aaf9d",
   "metadata": {},
   "outputs": [],
   "source": []
  },
  {
   "cell_type": "code",
   "execution_count": null,
   "id": "181b2b6c",
   "metadata": {},
   "outputs": [],
   "source": []
  },
  {
   "cell_type": "code",
   "execution_count": null,
   "id": "c7fc4d9c",
   "metadata": {},
   "outputs": [],
   "source": []
  },
  {
   "cell_type": "code",
   "execution_count": null,
   "id": "610e5eae",
   "metadata": {},
   "outputs": [],
   "source": []
  },
  {
   "cell_type": "code",
   "execution_count": null,
   "id": "dc16a110",
   "metadata": {},
   "outputs": [],
   "source": []
  },
  {
   "cell_type": "code",
   "execution_count": null,
   "id": "1ee3a04b",
   "metadata": {},
   "outputs": [],
   "source": []
  }
 ],
 "metadata": {
  "kernelspec": {
   "display_name": "Python 3 (ipykernel)",
   "language": "python",
   "name": "python3"
  },
  "language_info": {
   "codemirror_mode": {
    "name": "ipython",
    "version": 3
   },
   "file_extension": ".py",
   "mimetype": "text/x-python",
   "name": "python",
   "nbconvert_exporter": "python",
   "pygments_lexer": "ipython3",
   "version": "3.7.11"
  }
 },
 "nbformat": 4,
 "nbformat_minor": 5
}
