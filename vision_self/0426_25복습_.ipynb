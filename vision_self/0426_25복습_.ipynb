{
 "cells": [
  {
   "cell_type": "code",
   "execution_count": 1,
   "id": "eea2868e",
   "metadata": {},
   "outputs": [],
   "source": [
    "import numpy as np\n",
    "import cv2\n",
    "import sys\n",
    "import os\n",
    "import glob\n",
    "\n",
    "import matplotlib.pyplot as plt"
   ]
  },
  {
   "cell_type": "code",
   "execution_count": null,
   "id": "f3e314b5",
   "metadata": {},
   "outputs": [],
   "source": [
    "imgBGR = cv2.imread('../ch_1/figure/fig/puppy.bmp', cv2.IMREAD_COLOR)\n",
    "imgRGB = cv2.cvtColor(imgBGR, cv2.COLOR_RGB2BGR)\n",
    "imgGRAY = cv2.cvtColor(imgBGR, cv2.COLOR_)\n",
    "\n",
    "if img is None:\n",
    "    print('failed')\n",
    "    sys.exit()\n",
    "    \n",
    "img_re = cv2.resize(img, (300, 200), interpolation = cv2.INTER_AREA)\n",
    "cv2.imwrite('image_resize.png', img_re)\n",
    "  \n",
    "    \n",
    "fig, axes = plt.subplots(1, 3, figsize = (8, 8))\n",
    "\n",
    "axes[0].imshow(imgBGR), axes[0].axis('off')\n",
    "axes[1].imshow(imgRGB), axes[1].axis('off')\n",
    "axes[2].imshow(imgGRAY), axes[2].axis('off')\n",
    "    \n",
    "# cv2.namedWindow('img', cv2.WINDOW_AUTOSIZE)\n",
    "# cv2.imshow('img', img)\n",
    "\n",
    "# while True:\n",
    "#     key = cv2.waitKey()\n",
    "#     if key == 27 or key == ord('q'):\n",
    "#         break\n",
    "        \n",
    "cv2.destroyAllWindows()"
   ]
  },
  {
   "cell_type": "code",
   "execution_count": null,
   "id": "412c2428",
   "metadata": {},
   "outputs": [],
   "source": [
    "img_list = os.listdir('../ch_1/figure/images/')\n",
    "\n",
    "img_lists = []\n",
    "\n",
    "for i in img_list:\n",
    "    file_path = '../ch_1/figure/images/' + i\n",
    "    img_lists.append(file_path)\n",
    "    \n",
    "cv2.namedWindow('image', cv2.WINDOW_NORMAL)\n",
    "cv2.setWindowProperty('image', cv2.WND_PROP_FULLSCREEN,\n",
    "                     cv2.WINDOW_FULLSCREEN)\n",
    "\n",
    "idx = 0\n",
    "while True:\n",
    "    img = cv2.imread(img_lists[idx])\n",
    "    cv2.imshow('image', img)\n",
    "    \n",
    "    if cv2.waitKey(3000) == 27:\n",
    "        break\n",
    "        \n",
    "    idx += 1\n",
    "    \n",
    "    if idx >= len(img_lists):\n",
    "        idx = 0\n",
    "        \n",
    "cv2.destroyAllWindows()"
   ]
  },
  {
   "cell_type": "code",
   "execution_count": 8,
   "id": "8d331f52",
   "metadata": {},
   "outputs": [],
   "source": [
    "img = cv2.imread('../ch_1/figure/fig/puppy.bmp', 1)\n",
    "\n",
    "if img is None:\n",
    "    print('failed')\n",
    "    sys.exit()\n",
    "    \n",
    "img1 = img[200:400, 300:500]\n",
    "img2 = img[200:400, 300:500].copy()\n",
    "\n",
    "cv2.circle(img1, (100, 100), 50, (255, 255, 0), 3, cv2.LINE_AA)                       # cv2.LINE_AA : 원을 부드럽게 그림\n",
    "\n",
    "cv2.imshow('img', img)\n",
    "cv2.imshow('img1', img1)\n",
    "cv2.imshow('img2', img2)\n",
    "\n",
    "cv2.waitKey()\n",
    "cv2.destroyAllWindows()"
   ]
  },
  {
   "cell_type": "code",
   "execution_count": 36,
   "id": "c4d17250",
   "metadata": {},
   "outputs": [],
   "source": [
    "img_1 = cv2.imread('../ch_1/figure/fig/puppy.bmp', 1)\n",
    "\n",
    "if img_1 is None:\n",
    "    print('failed')\n",
    "    sys.exit()\n",
    "    \n",
    "img_1[180:240, 270:480] = (0, 0, 0)\n",
    "\n",
    "\n",
    "cv2.imshow('img_1', img_1)\n",
    "\n",
    "cv2.waitKey()\n",
    "cv2.destroyAllWindows()"
   ]
  },
  {
   "cell_type": "code",
   "execution_count": 3,
   "id": "73da5010",
   "metadata": {},
   "outputs": [],
   "source": [
    "img_1 = cv2.imread('../ch_1/figure/fig/puppy.bmp', 1)\n",
    "\n",
    "if img_1 is None:\n",
    "    print('failed')\n",
    "    sys.exit()\n",
    "    \n",
    "img_2 = img_1.copy()\n",
    "img_2[180:240, 270:480] = (0, 0, 0)\n",
    "\n",
    "while True:\n",
    "#     key = cv2.waitKey(3000)\n",
    "#     key2 = cv2.waitKey(500)\n",
    "    \n",
    "    cv2.imshow('img_1', img_1)\n",
    "    if cv2.waitKey(3000) == 27:\n",
    "        break\n",
    "    cv2.imshow('img_1', img_2)\n",
    "    if cv2.waitKey(500) == 27:\n",
    "        break\n",
    "    continue\n",
    "\n",
    "cv2.destroyAllWindows()"
   ]
  },
  {
   "cell_type": "code",
   "execution_count": null,
   "id": "72af2f72",
   "metadata": {},
   "outputs": [],
   "source": []
  },
  {
   "cell_type": "code",
   "execution_count": null,
   "id": "28480324",
   "metadata": {},
   "outputs": [],
   "source": []
  },
  {
   "cell_type": "code",
   "execution_count": null,
   "id": "6710a932",
   "metadata": {},
   "outputs": [],
   "source": []
  },
  {
   "cell_type": "code",
   "execution_count": null,
   "id": "5f084734",
   "metadata": {},
   "outputs": [],
   "source": []
  },
  {
   "cell_type": "code",
   "execution_count": null,
   "id": "68afcf26",
   "metadata": {},
   "outputs": [],
   "source": []
  },
  {
   "cell_type": "code",
   "execution_count": null,
   "id": "84675a9e",
   "metadata": {},
   "outputs": [],
   "source": []
  }
 ],
 "metadata": {
  "kernelspec": {
   "display_name": "Python 3 (ipykernel)",
   "language": "python",
   "name": "python3"
  },
  "language_info": {
   "codemirror_mode": {
    "name": "ipython",
    "version": 3
   },
   "file_extension": ".py",
   "mimetype": "text/x-python",
   "name": "python",
   "nbconvert_exporter": "python",
   "pygments_lexer": "ipython3",
   "version": "3.7.11"
  }
 },
 "nbformat": 4,
 "nbformat_minor": 5
}
