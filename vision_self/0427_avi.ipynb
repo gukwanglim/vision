{
 "cells": [
  {
   "cell_type": "code",
   "execution_count": 6,
   "id": "dc663ac9",
   "metadata": {},
   "outputs": [],
   "source": [
    "import numpy as np\n",
    "import cv2\n",
    "import sys\n",
    "import os\n",
    "\n",
    "import matplotlib.pyplot as plt"
   ]
  },
  {
   "cell_type": "code",
   "execution_count": 2,
   "id": "72e9b406",
   "metadata": {},
   "outputs": [],
   "source": [
    "## 그리기 함수\n",
    "\n",
    "img = np.full((600,1200, 3), (255, 255, 255), np.uint8)             # 판넬 그리기\n",
    "\n",
    "### 직선 그리기\n",
    "cv2.line(img, (50, 100), (300, 100), (0, 0, 255), 3, cv2.LINE_8)\n",
    "cv2.line(img, (300,100), (200, 400), (255, 0, 0), 5)\n",
    "cv2.arrowedLine(img, (400, 100), (400, 400), (0, 255, 0), 8)\n",
    "\n",
    "### 사각형 그리기\n",
    "cv2.rectangle(img, (50, 500), (400, 590), (0, 0, 255), -1)\n",
    "\n",
    "### 원 그리기\n",
    "cv2.circle(img, (600, 300), 100, (155, 0, 0), -1, cv2.LINE_AA)\n",
    "\n",
    "### 타원 그리기\n",
    "cv2.ellipse(img, (600, 300), (100, 200), 20, 0, 270, (0, 0, 155), 3, cv2.LINE_AA)\n",
    "cv2.ellipse(img, (600, 300), (100, 200), -20, 0, 360, (0, 0, 0), 3, cv2.LINE_AA)\n",
    "\n",
    "### 글자 넣기\n",
    "cv2.putText(img, 'people', (600, 180), cv2.FONT_HERSHEY_COMPLEX,\n",
    "           2, (0, 155, 0), 1, cv2.LINE_AA)\n",
    "\n",
    "cv2.imshow('img', img)\n",
    "\n",
    "cv2.waitKey()\n",
    "cv2.destroyAllWindows()"
   ]
  },
  {
   "cell_type": "code",
   "execution_count": 3,
   "id": "9985f83c",
   "metadata": {},
   "outputs": [],
   "source": [
    "img1 = np.full((600, 1200, 3), (255, 255, 255), np.uint8)\n",
    "\n",
    "cv2.circle(img1, (350, 200), 100, (0, 0, 0), 3, cv2.LINE_AA)\n",
    "cv2.line(img1, (500, 80), (500, 330), (0, 0, 0), 3)\n",
    "cv2.line(img1, (330, 380), (330, 490), (0, 0, 0), 3)\n",
    "cv2.line(img1, (330, 490), (500, 490), (0, 0, 0), 3)\n",
    "\n",
    "cv2.line(img1, (750, 100), (700, 300), (0, 0, 0), 3)\n",
    "cv2.line(img1, (750, 100), (800, 300), (0, 0, 0), 3)\n",
    "cv2.line(img1, (820, 100), (820, 350), (0, 0, 0), 3)\n",
    "cv2.line(img1, (820, 180), (880, 180), (0, 0, 0), 3)\n",
    "cv2.rectangle(img1, (750, 350), (850, 450), (0, 0, 0), 3)\n",
    "\n",
    "# cv2.circle(img1, (790, 400), 60, (0, 0, 0), 3, cv2.LINE_AA)\n",
    "\n",
    "\n",
    "cv2.imshow('img1', img1)\n",
    "\n",
    "cv2.waitKey()\n",
    "cv2.destroyAllWindows()"
   ]
  },
  {
   "cell_type": "code",
   "execution_count": 9,
   "id": "679dbd55",
   "metadata": {},
   "outputs": [
    {
     "data": {
      "text/plain": [
       "True"
      ]
     },
     "execution_count": 9,
     "metadata": {},
     "output_type": "execute_result"
    }
   ],
   "source": [
    "cap = cv2.VideoCapture(0)\n",
    "\n",
    "cap.isOpened()"
   ]
  },
  {
   "cell_type": "code",
   "execution_count": 11,
   "id": "eb5ac123",
   "metadata": {},
   "outputs": [],
   "source": [
    "## 웹캠 활용\n",
    "\n",
    "cap = cv2.VideoCapture(0)\n",
    "\n",
    "if not cap.isOpened():\n",
    "    print('Video open failed')\n",
    "    sys.exit()\n",
    "    \n",
    "while True:\n",
    "    ret, frame = cap.read()                         # ret는 true, false를 반환.\n",
    "    \n",
    "    if not ret:\n",
    "        print('Video read failed')\n",
    "        break\n",
    "        \n",
    "    edge = cv2.Canny(frame, 50, 150)                # Canny는 외곽선을 뽑아낸다고 생각하면 편함.\n",
    "        \n",
    "    cv2.imshow('frame', frame)\n",
    "    cv2.imshow('edge', edge)\n",
    "    \n",
    "    if cv2.waitKey(30) == 27:                       # waitkey의 () 안에 아무것도 넣지 않으면 영상이 멈춰있음\n",
    "        break                                       # () 안의 숫자에 의해 영상이 딜레이되는 시간을 조절\n",
    "                \n",
    "cap.release()\n",
    "cv2.destroyAllWindows()"
   ]
  },
  {
   "cell_type": "code",
   "execution_count": 24,
   "id": "dbbfaa4d",
   "metadata": {},
   "outputs": [
    {
     "name": "stdout",
     "output_type": "stream",
     "text": [
      "640 480 21.0\n"
     ]
    }
   ],
   "source": [
    "## 캠 저장\n",
    "\n",
    "cap = cv2.VideoCapture(0)                      # 만일, 기존에 가지고 있던 영상을 사용하고 싶으면 () 안에 0 이 아닌 파일의 경로 사용\n",
    "\n",
    "if not cap.isOpened():\n",
    "    print('Video open failed')\n",
    "    sys.exit()\n",
    "    \n",
    "w = int(cap.get(cv2.CAP_PROP_FRAME_WIDTH))\n",
    "h = int(cap.get(cv2.CAP_PROP_FRAME_HEIGHT))\n",
    "fps = int(cap.get(cv2.CAP_PROP_FPS))*0.7                # 0.7을 곱하지 않으면 살짝 빠르게 나온다.\n",
    "\n",
    "print(w, h, fps)\n",
    "\n",
    "fourcc = cv2.VideoWriter_fourcc(*'DIVX')        # *'DIVX' 이런 식으로 넣으면 'D', 'I', ..\n",
    "\n",
    "out1 = cv2.VideoWriter('output1.avi', fourcc, fps, (w, h))      # fourcc는 압축방식\n",
    "out2 = cv2.VideoWriter('output2.avi', fourcc, fps, (w, h))                            # 영상을 기록하는 것이라고 생각하면 편함\n",
    "\n",
    "while True:\n",
    "    \n",
    "    ret, frame = cap.read()\n",
    "    \n",
    "    if not ret:\n",
    "        print('Video read failed')\n",
    "        break\n",
    "        \n",
    "    edge = cv2.Canny(frame, 50, 150)\n",
    "    edge = cv2.cvtColor(edge, cv2.COLOR_GRAY2RGB)         # edge 영상은 gray 타입이며 저장되는 영상의 타입은 컬러이므로 \n",
    "                                                          # cvtColor를 이용하여 gray를 color로 바꾼다.\n",
    "    out1.write(frame)\n",
    "    out2.write(edge)                                      # 기록된 영상을 저장\n",
    "        \n",
    "    cv2.imshow('frame', frame)\n",
    "    cv2.imshow('edge', edge)\n",
    "    \n",
    "    if cv2.waitKey(30) ==27:\n",
    "        break\n",
    "    \n",
    "cap.release()                                     # 닫기\n",
    "out1.release()\n",
    "out2.release()\n",
    "cv2.destroyAllWindows()"
   ]
  },
  {
   "cell_type": "code",
   "execution_count": null,
   "id": "fa5537cd",
   "metadata": {},
   "outputs": [],
   "source": []
  },
  {
   "cell_type": "code",
   "execution_count": null,
   "id": "129d19d0",
   "metadata": {},
   "outputs": [],
   "source": []
  },
  {
   "cell_type": "code",
   "execution_count": null,
   "id": "d5a42f89",
   "metadata": {},
   "outputs": [],
   "source": []
  },
  {
   "cell_type": "code",
   "execution_count": null,
   "id": "d63810d8",
   "metadata": {},
   "outputs": [],
   "source": []
  },
  {
   "cell_type": "code",
   "execution_count": null,
   "id": "ad3829d4",
   "metadata": {},
   "outputs": [],
   "source": []
  },
  {
   "cell_type": "code",
   "execution_count": null,
   "id": "eeeac305",
   "metadata": {},
   "outputs": [],
   "source": []
  },
  {
   "cell_type": "code",
   "execution_count": null,
   "id": "1367f179",
   "metadata": {},
   "outputs": [],
   "source": []
  },
  {
   "cell_type": "code",
   "execution_count": null,
   "id": "1e918cc9",
   "metadata": {},
   "outputs": [],
   "source": []
  }
 ],
 "metadata": {
  "kernelspec": {
   "display_name": "Python 3 (ipykernel)",
   "language": "python",
   "name": "python3"
  },
  "language_info": {
   "codemirror_mode": {
    "name": "ipython",
    "version": 3
   },
   "file_extension": ".py",
   "mimetype": "text/x-python",
   "name": "python",
   "nbconvert_exporter": "python",
   "pygments_lexer": "ipython3",
   "version": "3.7.11"
  }
 },
 "nbformat": 4,
 "nbformat_minor": 5
}
