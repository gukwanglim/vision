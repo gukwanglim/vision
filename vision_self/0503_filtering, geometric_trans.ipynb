{
 "cells": [
  {
   "cell_type": "code",
   "execution_count": 1,
   "id": "46dfda50",
   "metadata": {},
   "outputs": [],
   "source": [
    "import os, sys, cv2\n",
    "import numpy as np\n",
    "\n",
    "import matplotlib.pyplot as plt"
   ]
  },
  {
   "cell_type": "code",
   "execution_count": 11,
   "id": "6dcde613",
   "metadata": {},
   "outputs": [],
   "source": [
    "## 히스토그램 역투사(역투영)\n",
    "\n",
    "src = cv2.imread('../ch_4/green/green.png', cv2.IMREAD_REDUCED_COLOR_2)\n",
    "src_ycrcb = cv2.cvtColor(src, cv2.COLOR_BGR2YCrCb)\n",
    "\n",
    "# region of interest\n",
    "x, y, w, h = cv2.selectROI(src)\n",
    "  # 관심되는 영역 선택\n",
    "    \n",
    "# print(x, y, w, h)\n",
    "    \n",
    "crop = src_ycrcb[y:y+h, x:x+w]               # 범위 지정 후 엔터를 누르면 그 부분이 빠져나옴.\n",
    "\n",
    "channels = [1, 2]\n",
    "histsize = [256, 256]\n",
    "ranges = [0, 256, 0, 256]\n",
    "    \n",
    "hist = cv2.calcHist([crop], channels, None, histsize, ranges)\n",
    "\n",
    "backproj = cv2.calcBackProject([src_ycrcb], channels, hist, ranges, 1)       # 지정된 범위와 같은 색을 마스크로 만들어 저장\n",
    "\n",
    "dst = cv2.copyTo(src, backproj)                                           # 만들어진 마스크(여기서는 backproj)를 copyTo\n",
    "\n",
    "cv2.imshow('src', src)\n",
    "# cv2.imshow('crop', crop)\n",
    "cv2.imshow('backproj', backproj)\n",
    "cv2.imshow('dst', dst)\n",
    "\n",
    "cv2.waitKey()\n",
    "cv2.destroyAllWindows()"
   ]
  },
  {
   "cell_type": "code",
   "execution_count": 6,
   "id": "d31dedf3",
   "metadata": {},
   "outputs": [
    {
     "name": "stdout",
     "output_type": "stream",
     "text": [
      "(256, 256)\n",
      "<class 'numpy.ndarray'>\n"
     ]
    }
   ],
   "source": [
    "print(hist.shape)\n",
    "print(type(hist))"
   ]
  },
  {
   "cell_type": "code",
   "execution_count": 7,
   "id": "579b0e8f",
   "metadata": {},
   "outputs": [
    {
     "data": {
      "image/png": "[encoded data removed]",
      "text/plain": [
       "<Figure size 432x288 with 1 Axes>"
      ]
     },
     "metadata": {
      "needs_background": "light"
     },
     "output_type": "display_data"
    }
   ],
   "source": [
    "plt.imshow(hist)\n",
    "plt.show()               # 두 개(crcy) 조인"
   ]
  },
  {
   "cell_type": "code",
   "execution_count": 30,
   "id": "31315781",
   "metadata": {},
   "outputs": [
    {
     "name": "stdout",
     "output_type": "stream",
     "text": [
      "95 79 70 32\n"
     ]
    }
   ],
   "source": [
    "src = cv2.imread('../Ch_5_filtering/fig/blue_eyes.png')\n",
    "\n",
    "src = cv2.resize(src, (300, 200), interpolation = cv2.INTER_AREA)\n",
    "\n",
    "src_ycrcb = cv2.cvtColor(src, cv2.COLOR_BGR2YCrCb)\n",
    "\n",
    "src_1 = cv2.imread('../ch_4/green/green.png', cv2.IMREAD_REDUCED_COLOR_2)\n",
    "src_1_1 = src_1[0:200, 200:500]\n",
    "\n",
    "\n",
    "\n",
    "x, y, w, h = cv2.selectROI(src)\n",
    "print(x, y, w, h)\n",
    "\n",
    "crop_src = src_ycrcb[y:y+h, x:x+w]\n",
    "\n",
    "# cv2.namedWindow('crop_src', cv2.WINDOW_NORMAL)\n",
    "\n",
    "ch = [1, 2]\n",
    "histsize = [256, 256]\n",
    "ranges = [0, 256, 0, 256]\n",
    "\n",
    "hist = cv2.calcHist([crop_src], ch, None, histsize, ranges)\n",
    "\n",
    "backproj = cv2.calcBackProject([src_ycrcb], ch, hist, ranges, 1)\n",
    "\n",
    "dst = cv2.copyTo(src, backproj, src_1_1)\n",
    "\n",
    "cv2.imshow('src', src)\n",
    "# cv2.imshow('crop_src', crop_src)\n",
    "cv2.imshow('backproj', backproj)\n",
    "cv2.imshow('dst', dst)\n",
    "cv2.imshow('src_1', src_1)\n",
    "\n",
    "cv2.waitKey()\n",
    "cv2.destroyAllWindows()"
   ]
  },
  {
   "cell_type": "code",
   "execution_count": 8,
   "id": "769dc12e",
   "metadata": {},
   "outputs": [
    {
     "name": "stdout",
     "output_type": "stream",
     "text": [
      "(553, 840, 3)\n",
      "(562, 750, 3)\n"
     ]
    }
   ],
   "source": [
    "print(src.shape)\n",
    "print(src_1.shape)"
   ]
  },
  {
   "cell_type": "code",
   "execution_count": 33,
   "id": "56cf165f",
   "metadata": {},
   "outputs": [],
   "source": [
    "## 평균 필터\n",
    "\n",
    "src = cv2.imread('../Ch_5_filtering/fig/blue_eyes.png')\n",
    "\n",
    "kernel_3 = np.ones((3, 3), np.float32)/9.                         # 필터는 float으로\n",
    "kernel_5 = np.ones((5, 5), np.float32)/25.\n",
    "\n",
    "dst_3 = cv2.filter2D(src, -1, kernel_3, -1)\n",
    "                         # 출력 영상의 타입: -1은 똑같이\n",
    "dst_5 = cv2.filter2D(src, -1, kernel_5, -1)\n",
    "\n",
    "dst_3_blur = cv2.blur(src, (3, 3))\n",
    "dst_5_blur = cv2.blur(src, (5, 5))\n",
    "\n",
    "cv2.imshow('src', src)\n",
    "cv2.imshow('dst_3', dst_3)\n",
    "cv2.imshow('dst_5', dst_5)\n",
    "cv2.imshow('dst_3_blur', dst_3_blur)\n",
    "cv2.imshow('dst_5_blur', dst_5_blur)\n",
    "\n",
    "cv2.waitKey()\n",
    "cv2.destroyAllWindows()"
   ]
  },
  {
   "cell_type": "code",
   "execution_count": 34,
   "id": "137f4a41",
   "metadata": {},
   "outputs": [],
   "source": [
    "## 필터 함수\n",
    "\n",
    "src = cv2.imread('../Ch_5_filtering/fig/blue_eyes.png')\n",
    "\n",
    "kernel_3 = np.ones((3, 3), np.float32)/9.                         # 필터는 float으로\n",
    "kernel_5 = np.ones((5, 5), np.float32)/25.\n",
    "\n",
    "dst_3 = cv2.filter2D(src, -1, kernel_3, -1)\n",
    "                         # 출력 영상의 타입: -1은 똑같이\n",
    "dst_5 = cv2.filter2D(src, -1, kernel_5, -1)\n",
    "\n",
    "dst_3_blur = cv2.blur(src, (3, 3))\n",
    "dst_5_blur = cv2.blur(src, (5, 5))\n",
    "\n",
    "cv2.imshow('src', src)\n",
    "\n",
    "for ksize in (3, 5, 7,9):\n",
    "    dst = cv2.blur(src, (ksize, ksize))\n",
    "    \n",
    "    text = '{} x {}'.format(ksize, ksize)\n",
    "    cv2.putText(dst, text, (30, 30), cv2.FONT_HERSHEY_COMPLEX, \n",
    "               1, (0, 0, 255), 2, cv2.LINE_AA)\n",
    "    \n",
    "    cv2.imshow('dst', dst)\n",
    "    cv2.waitKey()\n",
    "    \n",
    "    \n",
    "cv2.destroyAllWindows()"
   ]
  },
  {
   "cell_type": "code",
   "execution_count": 36,
   "id": "9bab09e5",
   "metadata": {},
   "outputs": [],
   "source": [
    "## 가우시안 필터 -> 공간에 대한 필터만 사용\n",
    "\n",
    "src = cv2.imread('../Ch_5_filtering/fig/blue_eyes.png')\n",
    "\n",
    "# 가우시안                                          # 평균 필터보다 보기 좋으면서 원본의 노이즈를 제거 \n",
    "dst_Gaussian = cv2.GaussianBlur(src, (0, 0), 1.)   # float으로 넣음\n",
    "\n",
    "dst_blur = cv2.blur(src, (7, 7))\n",
    "\n",
    "cv2.imshow('src', src)\n",
    "cv2.imshow('dst_blur', dst_blur)\n",
    "cv2.imshow('dst_Gaussian', dst_Gaussian)\n",
    "\n",
    "\n",
    "cv2.waitKey()\n",
    "cv2.destroyAllWindows()"
   ]
  },
  {
   "cell_type": "code",
   "execution_count": 41,
   "id": "c78f70c8",
   "metadata": {},
   "outputs": [],
   "source": [
    "## 메디안 필터(잘 사용하지 않음) -> 점같은 노이즈 제거(컬로도 가능)\n",
    "\n",
    "src = cv2.imread('../Ch_5_filtering/fig/blue_eyes.png', 1)\n",
    "\n",
    "# 일부로 노이즈를 추가\n",
    "salt_pepper_noise1 = np.random.choice((0, 255), src.shape, p = (0.99, 0.01))   # 0.01의 확률로 255가 나온다.\n",
    "salt_pepper_noise2 = np.random.choice((0, 255), src.shape, p = (0.99, 0.01))\n",
    "\n",
    "src_noise = src + salt_pepper_noise1 - salt_pepper_noise2\n",
    "src_noise = np.clip(src_noise, 0, 255).astype(np.uint8)\n",
    "\n",
    "# 메디안 필터\n",
    "dst = cv2.medianBlur(src_noise, 3)\n",
    "\n",
    "cv2.imshow('src', src)\n",
    "cv2.imshow('srsrc_noise', src_noise)\n",
    "cv2.imshow('dst', dst)\n",
    "\n",
    "\n",
    "cv2.waitKey()\n",
    "cv2.destroyAllWindows()"
   ]
  },
  {
   "cell_type": "code",
   "execution_count": 46,
   "id": "858ca497",
   "metadata": {},
   "outputs": [],
   "source": [
    "## bilateralFilter -> 공간에 대한 필터와 색에 대한 필터까지 사용하여 원본을 최대한 유지(하지만 속도가 느림)\n",
    "\n",
    "src = cv2.imread('../Ch_5_filtering/fig/blue_eyes.png', 0)\n",
    "\n",
    "dst_Gaussian = cv2.GaussianBlur(src, (0, 0), 5.0)                 # 5.0으로 조금 과도하게 필터 사용\n",
    "\n",
    "dst_bilateral = cv2.bilateralFilter(src, -1, 10, 5.0)             # d = -1,\n",
    "\n",
    "cv2.imshow('src', src)\n",
    "cv2.imshow('dst_Gaussian', dst_Gaussian)\n",
    "cv2.imshow('dst_bilateral', dst_bilateral)\n",
    "\n",
    "cv2.waitKey()\n",
    "cv2.destroyAllWindows()"
   ]
  },
  {
   "cell_type": "code",
   "execution_count": 52,
   "id": "6c324695",
   "metadata": {},
   "outputs": [],
   "source": [
    "src_1 = cv2.imread('../Ch_5_filtering/images.jpg')\n",
    "src_2 = cv2.imread('../Ch_5_filtering/images.jpg', 0)\n",
    "\n",
    "dst_Gaussian_1 = cv2.GaussianBlur(src_1, (0, 0), 5.0)\n",
    "dst_Gaussian_2 = cv2.GaussianBlur(src_2, (0, 0), 5.0)\n",
    "\n",
    "dst_bilateral_1 = cv2.bilateralFilter(src_1, -1, 10, 5.0)\n",
    "dst_bilateral_2 = cv2.bilateralFilter(src_2, -1, 10, 5.0)\n",
    "\n",
    "cv2.imshow('src_1', src_1)\n",
    "cv2.imshow('src_2', src_2)\n",
    "cv2.imshow('dst_Gaussian_1', dst_Gaussian_1)\n",
    "cv2.imshow('dst_Gaussian_2', dst_Gaussian_2)\n",
    "cv2.imshow('dst_bilateral_1', dst_bilateral_1)\n",
    "cv2.imshow('dst_bilateral_2', dst_bilateral_2)\n",
    "\n",
    "cv2.waitKey()\n",
    "cv2.destroyAllWindows()"
   ]
  },
  {
   "cell_type": "code",
   "execution_count": 61,
   "id": "779d289d",
   "metadata": {},
   "outputs": [],
   "source": [
    "## 미분 필터\n",
    "\n",
    "src = cv2.imread('../Ch_5_filtering/fig/son.jpg', 0)\n",
    "                        # cv2.CV_32F = float 타입으로 변경, magnitude를 사용하지 않는다면 그냥 -1을 넣어주면 됨.\n",
    "dx = cv2.Sobel(src, cv2.CV_32F, 1, 0, delta = 128)               # x 방향으로 미분 필터 (세로 한 줄 비어있음)\n",
    "dy = cv2.Sobel(src, cv2.CV_32F, 0, 1, delta = 128)               # y 방향으로 미분 필터 (가로 한 줄 비어있음)\n",
    "\n",
    "mag = np.clip(cv2.magnitude(dx, dy), 0, 255).astype(np.uint8)\n",
    "               # magnitude : float 타입만 받으면서 dx, dy 미분을 합쳐주는 함수\n",
    "_, thres = cv2.threshold(mag, 230, 255, cv2.THRESH_BINARY)          # 230 이상이면 무조건 엣지\n",
    "\n",
    "cv2.imshow('src', src)\n",
    "cv2.imshow('dx', dx)\n",
    "cv2.imshow('dy', dy)\n",
    "cv2.imshow('mag', mag)\n",
    "cv2.imshow('thres', thres)\n",
    "\n",
    "cv2.waitKey()\n",
    "cv2.destroyAllWindows()"
   ]
  },
  {
   "cell_type": "code",
   "execution_count": 64,
   "id": "03f7577b",
   "metadata": {},
   "outputs": [],
   "source": [
    "## Canny 엣지 필터(magnitude보다 주로 사용)\n",
    "\n",
    "src = cv2.imread('../Ch_5_filtering/fig/son.jpg')\n",
    "\n",
    "src_Gaussian = cv2.GaussianBlur(src, (0, 0), 2)\n",
    "\n",
    "edge = cv2.Canny(src, 100, 200)                              # edge는 미분필터를 사용하여 구하는 것.\n",
    "                      # 하한선, 상한선 -> 200 이상이면 무조건 엣지, 100 이하는 무시, 100과200 사이는 200 이상과 연결되어 있음 엣지.\n",
    "edge_1 = 255 - edge    \n",
    "\n",
    "edge_2 = cv2.cvtColor(edge_1, cv2.COLOR_GRAY2BGR)\n",
    "\n",
    "dst = cv2.bitwise_and(src_Gaussian, edge_2)\n",
    "\n",
    "cv2.imshow('src', src)\n",
    "cv2.imshow('src_Gaussian', src_Gaussian)\n",
    "cv2.imshow('edge', edge)\n",
    "cv2.imshow('edge_1', edge_1)\n",
    "cv2.imshow('edge_2', edge_2)\n",
    "cv2.imshow('dst', dst)\n",
    "\n",
    "cv2.waitKey()\n",
    "cv2.destroyAllWindows()"
   ]
  },
  {
   "cell_type": "code",
   "execution_count": 71,
   "id": "9526b2cd",
   "metadata": {},
   "outputs": [],
   "source": [
    "src_ea = cv2.imread('../Ch_5_filtering/earth-7043847_960_720.jpg')\n",
    "\n",
    "src_Gaussian_ea = cv2.GaussianBlur(src_ea, (0, 0), 2)\n",
    "\n",
    "edge_ea = cv2.Canny(src_ea, 100, 200)\n",
    "\n",
    "edge_ea_1 = 255 - edge_ea\n",
    "\n",
    "edge_ea_2 = cv2.cvtColor(edge_ea_1, cv2.COLOR_GRAY2BGR)\n",
    "\n",
    "dst_ea = cv2.bitwise_and(src_Gaussian_ea, edge_ea_2)\n",
    "\n",
    "cv2.imshow('src_ea', src_ea)\n",
    "cv2.imshow('dst_ea', dst_ea)\n",
    "\n",
    "cv2.waitKey()\n",
    "cv2.destroyAllWindows()"
   ]
  },
  {
   "cell_type": "code",
   "execution_count": null,
   "id": "27d1064c",
   "metadata": {},
   "outputs": [],
   "source": [
    "## 연산 과정에 걸리는 시간 (time = cv2.TickMeter())\n",
    "\n",
    "src = cv2.imread('../Ch_5_filtering/fig/son.jpg')\n",
    "\n",
    "time = cv2.TickMeter()                                        # cv2 에서 time 파라미터 가져오기\n",
    "time.start()                                         # 시간 측정 시작\n",
    "\n",
    "src_Gaussian = cv2.GaussianBlur(src, (0, 0), 2)\n",
    "\n",
    "edge = cv2.Canny(src, 100, 200)                          \n",
    "                      \n",
    "edge_1 = 255 - edge    \n",
    "\n",
    "edge_2 = cv2.cvtColor(edge_1, cv2.COLOR_GRAY2BGR)\n",
    "\n",
    "dst = cv2.bitwise_and(src_Gaussian, edge_2)\n",
    "\n",
    "time.stop()                                        # 시간 측정 종료\n",
    "print(time.getTimeMilli(), 'ms')                   # 시간 측정 출력\n",
    "\n",
    "time.reset()                                       # 시간 측정 리셋\n",
    "\n",
    "cv2.imshow('src', src)\n",
    "cv2.imshow('src_Gaussian', src_Gaussian)\n",
    "cv2.imshow('edge', edge)\n",
    "cv2.imshow('edge_1', edge_1)\n",
    "cv2.imshow('edge_2', edge_2)\n",
    "cv2.imshow('dst', dst)\n",
    "\n",
    "cv2.waitKey()\n",
    "cv2.destroyAllWindows()"
   ]
  },
  {
   "cell_type": "code",
   "execution_count": 75,
   "id": "f81ac3e1",
   "metadata": {},
   "outputs": [],
   "source": [
    "## geometric_trans\n",
    "\n",
    "\n",
    "## 이동\n",
    "src = cv2.imread('../Ch_6_geometric_trans/fig/puppy.bmp')\n",
    "\n",
    "M = np.array([[1, 0, 100],\n",
    "            [0, 1, 100]], dtype = np.float32)\n",
    "\n",
    "                            # (0, 0)은 원본 사이즈 유지, M은 동차 좌표계 매트릭스\n",
    "dst = cv2.warpAffine(src, M, (0, 0))\n",
    "\n",
    "\n",
    "#  cv2.warpPerspective은 warpAffine보다 더 발전된것\n",
    "\n",
    "cv2.imshow('src', src)\n",
    "cv2.imshow('dst', dst)\n",
    "\n",
    "cv2.waitKey()\n",
    "cv2.destroyAllWindows()"
   ]
  },
  {
   "cell_type": "code",
   "execution_count": 76,
   "id": "4476f8a9",
   "metadata": {},
   "outputs": [
    {
     "name": "stdout",
     "output_type": "stream",
     "text": [
      "(480, 640, 3)\n"
     ]
    }
   ],
   "source": [
    "src = cv2.imread('../Ch_6_geometric_trans/fig/puppy.bmp')\n",
    "\n",
    "M = np.array([[2, 0, 0],\n",
    "            [0, 2, 0]], dtype = np.float32)\n",
    "\n",
    "print(src.shape)\n",
    "\n",
    "                            # (0, 0)은 원본 사이즈 유지, M은 동차 좌표계 매트릭스\n",
    "dst = cv2.warpAffine(src, M, (1280, 940))           # 확대할때는 비율만큼 곱하기\n",
    "\n",
    "\n",
    "#  cv2.warpPerspective은 warpAffine보다 더 발전된것\n",
    "\n",
    "cv2.imshow('src', src)\n",
    "cv2.imshow('dst', dst)\n",
    "\n",
    "cv2.waitKey()\n",
    "cv2.destroyAllWindows()"
   ]
  },
  {
   "cell_type": "code",
   "execution_count": 80,
   "id": "b3eb71e3",
   "metadata": {},
   "outputs": [],
   "source": [
    "src = cv2.imread('../Ch_6_geometric_trans/fig/rose.jpg')    # 산드라 있어요?\n",
    "\n",
    "# resize는 interpolation 을 사용할 수 있음\n",
    "dst1 = cv2.resize(src, (1920, 1280), interpolation = cv2.INTER_NEAREST)       # 가까운 것으로 사용\n",
    "dst2 = cv2.resize(src, (1920, 1280), interpolation = cv2.INTER_LINEAR)        # 선형 보간\n",
    "dst3 = cv2.resize(src, (1920, 1280), interpolation = cv2.INTER_CUBIC)         # 고차항 사용(삼차항 이상)\n",
    "dst4 = cv2.resize(src, (1920, 1280), interpolation = cv2.INTER_LANCZOS4)      # CUBIC보다 나음\n",
    "\n",
    "\n",
    "cv2.imshow('src', src)\n",
    "cv2.imshow('dst1', dst1)\n",
    "cv2.imshow('dst2', dst2)\n",
    "cv2.imshow('dst3', dst3)\n",
    "cv2.imshow('dst4', dst4)\n",
    "\n",
    "cv2.waitKey()\n",
    "cv2.destroyAllWindows()"
   ]
  },
  {
   "cell_type": "code",
   "execution_count": 82,
   "id": "2bd9c624",
   "metadata": {},
   "outputs": [
    {
     "ename": "ValueError",
     "evalue": "setting an array element with a sequence.",
     "output_type": "error",
     "traceback": [
      "\u001b[1;31m---------------------------------------------------------------------------\u001b[0m",
      "\u001b[1;31mValueError\u001b[0m                                Traceback (most recent call last)",
      "\u001b[1;32m~\\AppData\\Local\\Temp/ipykernel_4960/729486577.py\u001b[0m in \u001b[0;36m<module>\u001b[1;34m\u001b[0m\n\u001b[0;32m      5\u001b[0m \u001b[0mrad\u001b[0m \u001b[1;33m=\u001b[0m \u001b[1;36m20\u001b[0m\u001b[1;33m*\u001b[0m\u001b[0mnp\u001b[0m\u001b[1;33m.\u001b[0m\u001b[0mpi\u001b[0m\u001b[1;33m/\u001b[0m\u001b[1;36m180\u001b[0m\u001b[1;33m\u001b[0m\u001b[1;33m\u001b[0m\u001b[0m\n\u001b[0;32m      6\u001b[0m M = np.array([[np.cos(rad), np.sin(rad), 0],\n\u001b[1;32m----> 7\u001b[1;33m              [-np.sin(rad), np.cos(rad)]], dtype = np.float32)\n\u001b[0m\u001b[0;32m      8\u001b[0m \u001b[1;33m\u001b[0m\u001b[0m\n\u001b[0;32m      9\u001b[0m \u001b[0mdst\u001b[0m \u001b[1;33m=\u001b[0m \u001b[0mcv2\u001b[0m\u001b[1;33m.\u001b[0m\u001b[0mwarpAffine\u001b[0m\u001b[1;33m(\u001b[0m\u001b[0msrc\u001b[0m\u001b[1;33m,\u001b[0m \u001b[0mM\u001b[0m\u001b[1;33m,\u001b[0m \u001b[1;33m(\u001b[0m\u001b[1;36m0\u001b[0m\u001b[1;33m,\u001b[0m \u001b[1;36m0\u001b[0m\u001b[1;33m)\u001b[0m\u001b[1;33m)\u001b[0m\u001b[1;33m\u001b[0m\u001b[1;33m\u001b[0m\u001b[0m\n",
      "\u001b[1;31mValueError\u001b[0m: setting an array element with a sequence."
     ]
    }
   ],
   "source": [
    "## 회전\n",
    "\n",
    "src = cv2.imread('../Ch_6_geometric_trans/fig/puppy.bmp')\n",
    "\n",
    "rad = 20*np.pi/180\n",
    "M = np.array([[np.cos(rad), np.sin(rad), 0],\n",
    "             [-np.sin(rad), np.cos(rad), 0]], dtype = np.float32)\n",
    "\n",
    "dst = cv2.warpAffine(src, M, (0, 0))\n",
    "\n",
    "cv2.imshow('src', src)\n",
    "cv2.imshow('dst', dst)\n",
    "\n",
    "cv2.waitKey()\n",
    "cv2.destroyAllWindows()"
   ]
  },
  {
   "cell_type": "code",
   "execution_count": 90,
   "id": "27d5192e",
   "metadata": {},
   "outputs": [],
   "source": [
    "src = cv2.imread('../Ch_6_geometric_trans/fig/puppy.bmp')\n",
    "\n",
    "# rad = 20*np.pi/180\n",
    "# M = np.array([[np.cos(rad), np.sin(rad), 0],\n",
    "#              [-np.sin(rad), np.cos(rad), 0]], dtype = np.float32)\n",
    "\n",
    "# 중심 설정하기\n",
    "h, w = src.shape[:2]\n",
    "cp = (w/2, h/2)\n",
    "\n",
    "M  = cv2.getRotationMatrix2D(cp, 20, 1)            # 중간 숫자 양수일 경우 반시계방향, 마지막 숫자 -1일 경우 상하반전\n",
    "\n",
    "dst = cv2.warpAffine(src, M, (0, 0))\n",
    "\n",
    "cv2.imshow('src', src)\n",
    "cv2.imshow('dst', dst)\n",
    "\n",
    "cv2.waitKey()\n",
    "cv2.destroyAllWindows()"
   ]
  },
  {
   "cell_type": "code",
   "execution_count": 87,
   "id": "f6c13c08",
   "metadata": {},
   "outputs": [
    {
     "name": "stdout",
     "output_type": "stream",
     "text": [
      "(480, 640, 3)\n"
     ]
    }
   ],
   "source": [
    "src = cv2.imread('../Ch_6_geometric_trans/fig/puppy.bmp')\n",
    "\n",
    "M = np.array([[1, 0, 0],\n",
    "            [0.2, 1, 0]], dtype = np.float32)\n",
    "\n",
    "print(src.shape)\n",
    "\n",
    "                            # (0, 0)은 원본 사이즈 유지, M은 동차 좌표계 매트릭스\n",
    "dst = cv2.warpAffine(src, M, (0, 0))           # 확대할때는 비율만큼 곱하기\n",
    "                                               #  cv2.warpPerspective은 warpAffine보다 더 발전된것\n",
    "\n",
    "cv2.imshow('src', src)\n",
    "cv2.imshow('dst', dst)\n",
    "\n",
    "cv2.waitKey()\n",
    "cv2.destroyAllWindows()"
   ]
  },
  {
   "cell_type": "code",
   "execution_count": 4,
   "id": "9e3cf63d",
   "metadata": {},
   "outputs": [
    {
     "name": "stdout",
     "output_type": "stream",
     "text": [
      "(480, 640, 3)\n"
     ]
    }
   ],
   "source": [
    "## 이미지 돌리기\n",
    "\n",
    "src = cv2.imread('../Ch_6_geometric_trans/fig/puppy.bmp')\n",
    "\n",
    "print(src.shape)\n",
    "\n",
    "M = np.array([[1, 0.2, 0],\n",
    "            [0.2, 1, 0]], dtype = np.float32)\n",
    "\n",
    "                           \n",
    "dst = cv2.warpAffine(src, M, (738, 610))\n",
    "\n",
    "img = [dst]\n",
    "\n",
    "for i in range(1, 360):\n",
    "    h, w = dst.shape[:2]\n",
    "    cp = (w/2, h/2)\n",
    "        \n",
    "    M_1 = cv2.getRotationMatrix2D(cp, i, 1)\n",
    "    dst_1 = cv2.warpAffine(dst, M_1, (0, 0))\n",
    "    \n",
    "    img.append(dst_1)\n",
    "\n",
    "    \n",
    "idx = 0\n",
    "while True:\n",
    "    \n",
    "    play = img[idx]\n",
    "    \n",
    "    cv2.imshow('scene', play)\n",
    "    \n",
    "    if cv2.waitKey(3) == 27:\n",
    "        break\n",
    "    \n",
    "    idx += 1\n",
    "    \n",
    "    if idx >= len(img):\n",
    "        idx = 0\n",
    "\n",
    "        \n",
    "# cv2.imshow('src', src)\n",
    "# cv2.imshow('dst', dst)\n",
    "# cv2.imshow('dst_1', dst_1)\n",
    "\n",
    "# cv2.waitKey()\n",
    "cv2.destroyAllWindows()"
   ]
  },
  {
   "cell_type": "code",
   "execution_count": 110,
   "id": "788b9fc7",
   "metadata": {},
   "outputs": [],
   "source": [
    "## 이미지 안의 자료 펼쳐서 채우기\n",
    "\n",
    "src = cv2.imread('../Ch_6_geometric_trans/fig/checkerboard.png')\n",
    "\n",
    "h, w = src.shape[:2]\n",
    "\n",
    "# print(w, h) -> 960, 540\n",
    "\n",
    "src_point = np.array([[217, 50], [691, 47], [830, 517], [67, 526]], dtype = np.float32)\n",
    "dst_point = np.array([[0, 0], [w-1, 0], [w-1, h-1], [0, h-1]], dtype = np.float32)\n",
    "\n",
    "pers = cv2.getPerspectiveTransform(src_point, dst_point)\n",
    "dst = cv2.warpPerspective(src, pers, (w, h))\n",
    "\n",
    "cv2.imshow('src', src)\n",
    "cv2.imshow('dst', dst)\n",
    "\n",
    "cv2.waitKey()\n",
    "cv2.destroyAllWindows()"
   ]
  },
  {
   "cell_type": "code",
   "execution_count": 111,
   "id": "cf34ec5e",
   "metadata": {},
   "outputs": [
    {
     "name": "stdout",
     "output_type": "stream",
     "text": [
      "[[  0.   0.   0. ...   0.   0.   0.]\n",
      " [  1.   1.   1. ...   1.   1.   1.]\n",
      " [  2.   2.   2. ...   2.   2.   2.]\n",
      " ...\n",
      " [597. 597. 597. ... 597. 597. 597.]\n",
      " [598. 598. 598. ... 598. 598. 598.]\n",
      " [599. 599. 599. ... 599. 599. 599.]]\n",
      "(600, 498)\n",
      "[[ 0.          0.          0.         ...  0.          0.\n",
      "   0.        ]\n",
      " [ 0.03124491  0.03124491  0.03124491 ...  0.03124491  0.03124491\n",
      "   0.03124491]\n",
      " [ 0.06245932  0.06245932  0.06245932 ...  0.06245932  0.06245932\n",
      "   0.06245932]\n",
      " ...\n",
      " [-0.19210428 -0.19210428 -0.19210428 ... -0.19210428 -0.19210428\n",
      "  -0.19210428]\n",
      " [-0.16134752 -0.16134752 -0.16134752 ... -0.16134752 -0.16134752\n",
      "  -0.16134752]\n",
      " [-0.13043322 -0.13043322 -0.13043322 ... -0.13043322 -0.13043322\n",
      "  -0.13043322]]\n"
     ]
    }
   ],
   "source": [
    "## Remapping\n",
    "\n",
    "src = cv2.imread('../Ch_6_geometric_trans/fig/bamboo.jpg')\n",
    "#\n",
    "if src is None:\n",
    "    print('Image load failed!')\n",
    "    sys.exit()\n",
    "\n",
    "h, w = src.shape[:2]\n",
    "\n",
    "map2, map1 = np.indices((h, w), dtype=np.float32)\n",
    "print(map2)\n",
    "print(map2.shape)\n",
    "map1 = map1 + 10 * np.sin(map2/32)\n",
    "\n",
    "print(np.sin(map2/32))\n",
    "dst = cv2.remap(src, map1, map2, cv2.INTER_CUBIC, borderMode=cv2.BORDER_DEFAULT)\n",
    "\n",
    "cv2.imshow('src', src)\n",
    "cv2.imshow('dst', dst)\n",
    "cv2.waitKey()\n",
    "\n",
    "cv2.destroyAllWindows()"
   ]
  },
  {
   "cell_type": "code",
   "execution_count": null,
   "id": "d6dde324",
   "metadata": {},
   "outputs": [],
   "source": []
  },
  {
   "cell_type": "code",
   "execution_count": null,
   "id": "de3c6c4b",
   "metadata": {},
   "outputs": [],
   "source": []
  },
  {
   "cell_type": "code",
   "execution_count": null,
   "id": "14c22322",
   "metadata": {},
   "outputs": [],
   "source": []
  },
  {
   "cell_type": "code",
   "execution_count": null,
   "id": "b184a105",
   "metadata": {},
   "outputs": [],
   "source": []
  }
 ],
 "metadata": {
  "kernelspec": {
   "display_name": "Python 3 (ipykernel)",
   "language": "python",
   "name": "python3"
  },
  "language_info": {
   "codemirror_mode": {
    "name": "ipython",
    "version": 3
   },
   "file_extension": ".py",
   "mimetype": "text/x-python",
   "name": "python",
   "nbconvert_exporter": "python",
   "pygments_lexer": "ipython3",
   "version": "3.7.11"
  }
 },
 "nbformat": 4,
 "nbformat_minor": 5
}
