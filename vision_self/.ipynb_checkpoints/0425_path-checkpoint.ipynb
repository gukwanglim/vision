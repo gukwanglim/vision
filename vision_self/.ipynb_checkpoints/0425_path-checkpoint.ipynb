{
 "cells": [
  {
   "cell_type": "code",
   "execution_count": 1,
   "id": "e20940d3",
   "metadata": {},
   "outputs": [],
   "source": [
    "import numpy as np\n",
    "import cv2\n",
    "import sys\n",
    "import os\n",
    "import glob\n",
    "\n",
    "import matplotlib.pyplot as plt"
   ]
  },
  {
   "cell_type": "code",
   "execution_count": 2,
   "id": "7422feda",
   "metadata": {
    "scrolled": true
   },
   "outputs": [
    {
     "data": {
      "text/plain": [
       "['autumn_forest_park_128379_1920x1080.jpg',\n",
       " 'boat_mountains_lake_135258_1920x1080.jpg',\n",
       " 'forest_fog_trees_128751_1920x1080.jpg',\n",
       " 'pier_dock_sea_dusk_shore_118549_1920x1080.jpg',\n",
       " 'road_marking_evening_clouds_horizon_120298_1920x1080.jpg']"
      ]
     },
     "execution_count": 2,
     "metadata": {},
     "output_type": "execute_result"
    }
   ],
   "source": [
    "img_file_lists = os.listdir('../ch_1/figure/images/')\n",
    "\n",
    "img_file_lists"
   ]
  },
  {
   "cell_type": "code",
   "execution_count": 3,
   "id": "7bfbb668",
   "metadata": {
    "scrolled": true
   },
   "outputs": [
    {
     "name": "stdout",
     "output_type": "stream",
     "text": [
      "['../ch_1/figure/images/autumn_forest_park_128379_1920x1080.jpg', '../ch_1/figure/images/boat_mountains_lake_135258_1920x1080.jpg', '../ch_1/figure/images/forest_fog_trees_128751_1920x1080.jpg', '../ch_1/figure/images/pier_dock_sea_dusk_shore_118549_1920x1080.jpg', '../ch_1/figure/images/road_marking_evening_clouds_horizon_120298_1920x1080.jpg']\n"
     ]
    }
   ],
   "source": [
    "img_files = []\n",
    "\n",
    "for i in img_file_lists:\n",
    "    img_path = '../ch_1/figure/images/' + i\n",
    "    img_files.append(img_path)\n",
    "    \n",
    "print(img_files)"
   ]
  },
  {
   "cell_type": "code",
   "execution_count": 7,
   "id": "5c47693f",
   "metadata": {
    "scrolled": true
   },
   "outputs": [
    {
     "data": {
      "text/plain": [
       "['../ch_1/figure/images\\\\autumn_forest_park_128379_1920x1080.jpg',\n",
       " '../ch_1/figure/images\\\\boat_mountains_lake_135258_1920x1080.jpg',\n",
       " '../ch_1/figure/images\\\\forest_fog_trees_128751_1920x1080.jpg',\n",
       " '../ch_1/figure/images\\\\pier_dock_sea_dusk_shore_118549_1920x1080.jpg',\n",
       " '../ch_1/figure/images\\\\road_marking_evening_clouds_horizon_120298_1920x1080.jpg']"
      ]
     },
     "execution_count": 7,
     "metadata": {},
     "output_type": "execute_result"
    }
   ],
   "source": [
    "img_files_glob = glob.glob('../ch_1/figure/images/*.jpg')\n",
    "img_files_glob"
   ]
  },
  {
   "cell_type": "code",
   "execution_count": 8,
   "id": "6305cac5",
   "metadata": {},
   "outputs": [],
   "source": [
    "cv2.namedWindow('image', cv2.WINDOW_NORMAL)\n",
    "cv2.setWindowProperty('image', cv2.WND_PROP_FULLSCREEN,\n",
    "                     cv2.WINDOW_FULLSCREEN)\n",
    "\n",
    "for i in img_files:\n",
    "    img = cv2.imread(i)\n",
    "    \n",
    "    cv2.imshow('image', img)\n",
    "    if cv2.waitKey(3000) == 27:                         # (3000)이 없으면 하나의 사진에서 무한정 기다린다.\n",
    "        break\n",
    "        \n",
    "cv2.destroyAllWindows()    "
   ]
  },
  {
   "cell_type": "code",
   "execution_count": 4,
   "id": "7cc32e15",
   "metadata": {},
   "outputs": [],
   "source": [
    "cv2.namedWindow('image', cv2.WINDOW_NORMAL)\n",
    "cv2.setWindowProperty('image', cv2.WND_PROP_FULLSCREEN,\n",
    "                     cv2.WINDOW_FULLSCREEN)\n",
    "\n",
    "idx = 0\n",
    "while True:\n",
    "    img = cv2.imread(img_files[idx])\n",
    "    \n",
    "    cv2.imshow('image', img)\n",
    "    \n",
    "    if cv2.waitKey(3000) == 27:\n",
    "        break\n",
    "        \n",
    "    idx += 1\n",
    "    \n",
    "    if idx >= len(img_files):\n",
    "        idx = 0\n",
    "        \n",
    "cv2.destroyAllWindows()  "
   ]
  },
  {
   "cell_type": "code",
   "execution_count": null,
   "id": "bbb299a3",
   "metadata": {},
   "outputs": [],
   "source": []
  },
  {
   "cell_type": "code",
   "execution_count": 3,
   "id": "708ae34b",
   "metadata": {
    "scrolled": true
   },
   "outputs": [
    {
     "data": {
      "text/plain": [
       "['2267243A593A011534-0000.jpg',\n",
       " '2267243A593A011534-0001.jpg',\n",
       " '2267243A593A011534-0002.jpg',\n",
       " '2267243A593A011534-0003.jpg',\n",
       " '2267243A593A011534-0004.jpg',\n",
       " '2267243A593A011534-0005.jpg',\n",
       " '2267243A593A011534-0006.jpg',\n",
       " '2267243A593A011534-0007.jpg',\n",
       " '2267243A593A011534-0008.jpg',\n",
       " '2267243A593A011534-0009.jpg',\n",
       " '2267243A593A011534-0010.jpg',\n",
       " '2267243A593A011534-0011.jpg',\n",
       " '2267243A593A011534-0012.jpg',\n",
       " '2267243A593A011534-0013.jpg',\n",
       " '2267243A593A011534-0014.jpg',\n",
       " '2267243A593A011534-0015.jpg',\n",
       " '2267243A593A011534-0016.jpg',\n",
       " '2267243A593A011534-0017.jpg',\n",
       " '2267243A593A011534-0018.jpg',\n",
       " '2267243A593A011534-0019.jpg',\n",
       " '2267243A593A011534-0020.jpg',\n",
       " '2267243A593A011534-0021.jpg',\n",
       " '2267243A593A011534-0022.jpg',\n",
       " '2267243A593A011534-0023.jpg',\n",
       " '2267243A593A011534-0024.jpg',\n",
       " '2267243A593A011534-0025.jpg',\n",
       " '2267243A593A011534-0026.jpg',\n",
       " '2267243A593A011534-0027.jpg',\n",
       " '2267243A593A011534-0028.jpg',\n",
       " '2267243A593A011534-0029.jpg',\n",
       " '2267243A593A011534-0030.jpg',\n",
       " '2267243A593A011534-0031.jpg',\n",
       " '2267243A593A011534-0032.jpg',\n",
       " '2267243A593A011534-0033.jpg',\n",
       " '2267243A593A011534-0034.jpg',\n",
       " '2267243A593A011534-0035.jpg',\n",
       " '2267243A593A011534-0036.jpg',\n",
       " '2267243A593A011534-0037.jpg',\n",
       " '2267243A593A011534-0038.jpg',\n",
       " '2267243A593A011534-0039.jpg',\n",
       " '2267243A593A011534-0040.jpg',\n",
       " '2267243A593A011534-0041.jpg',\n",
       " '2267243A593A011534-0042.jpg',\n",
       " '2267243A593A011534-0043.jpg',\n",
       " '2267243A593A011534-0044.jpg',\n",
       " '2267243A593A011534-0045.jpg',\n",
       " '2267243A593A011534-0046.jpg',\n",
       " '2267243A593A011534-0047.jpg',\n",
       " '2267243A593A011534-0048.jpg',\n",
       " '2267243A593A011534-0049.jpg',\n",
       " '2267243A593A011534-0050.jpg',\n",
       " '2267243A593A011534-0051.jpg',\n",
       " '2267243A593A011534-0052.jpg',\n",
       " '2267243A593A011534-0053.jpg',\n",
       " '2267243A593A011534-0054.jpg',\n",
       " '2267243A593A011534-0055.jpg',\n",
       " '2267243A593A011534-0056.jpg',\n",
       " '2267243A593A011534-0057.jpg',\n",
       " '2267243A593A011534-0058.jpg',\n",
       " '2267243A593A011534-0059.jpg',\n",
       " '2267243A593A011534-0060.jpg',\n",
       " '2267243A593A011534-0061.jpg',\n",
       " '2267243A593A011534-0062.jpg',\n",
       " '2267243A593A011534-0063.jpg',\n",
       " '2267243A593A011534-0064.jpg',\n",
       " '2267243A593A011534-0065.jpg',\n",
       " '2267243A593A011534-0066.jpg',\n",
       " '2267243A593A011534-0067.jpg',\n",
       " '2267243A593A011534-0068.jpg',\n",
       " '2267243A593A011534-0069.jpg',\n",
       " '2267243A593A011534-0070.jpg',\n",
       " '2267243A593A011534-0071.jpg',\n",
       " '2267243A593A011534-0072.jpg',\n",
       " '2267243A593A011534-0073.jpg',\n",
       " '2267243A593A011534-0074.jpg',\n",
       " '2267243A593A011534-0075.jpg',\n",
       " '2267243A593A011534-0076.jpg',\n",
       " '2267243A593A011534-0077.jpg',\n",
       " '2267243A593A011534-0078.jpg',\n",
       " '2267243A593A011534-0079.jpg',\n",
       " '2267243A593A011534-0080.jpg',\n",
       " '2267243A593A011534-0081.jpg',\n",
       " '2267243A593A011534-0082.jpg',\n",
       " '2267243A593A011534-0083.jpg',\n",
       " '2267243A593A011534-0084.jpg',\n",
       " '2267243A593A011534-0085.jpg',\n",
       " '2267243A593A011534-0086.jpg',\n",
       " '2267243A593A011534-0087.jpg',\n",
       " '2267243A593A011534-0088.jpg',\n",
       " '2267243A593A011534-0089.jpg',\n",
       " '2267243A593A011534-0090.jpg',\n",
       " '2267243A593A011534-0091.jpg',\n",
       " '2267243A593A011534-0092.jpg',\n",
       " '2267243A593A011534-0093.jpg',\n",
       " '2267243A593A011534-0094.jpg',\n",
       " '2267243A593A011534-0095.jpg',\n",
       " '2267243A593A011534-0096.jpg',\n",
       " '2267243A593A011534-0097.jpg']"
      ]
     },
     "execution_count": 3,
     "metadata": {},
     "output_type": "execute_result"
    }
   ],
   "source": [
    "img_files_my = os.listdir('../ch_1/figure/my/iloveimg-converted/')\n",
    "\n",
    "img_files_my"
   ]
  },
  {
   "cell_type": "code",
   "execution_count": 4,
   "id": "d79c640a",
   "metadata": {
    "scrolled": true
   },
   "outputs": [
    {
     "name": "stdout",
     "output_type": "stream",
     "text": [
      "['../ch_1/figure/my/iloveimg-converted/2267243A593A011534-0000.jpg', '../ch_1/figure/my/iloveimg-converted/2267243A593A011534-0001.jpg', '../ch_1/figure/my/iloveimg-converted/2267243A593A011534-0002.jpg', '../ch_1/figure/my/iloveimg-converted/2267243A593A011534-0003.jpg', '../ch_1/figure/my/iloveimg-converted/2267243A593A011534-0004.jpg', '../ch_1/figure/my/iloveimg-converted/2267243A593A011534-0005.jpg', '../ch_1/figure/my/iloveimg-converted/2267243A593A011534-0006.jpg', '../ch_1/figure/my/iloveimg-converted/2267243A593A011534-0007.jpg', '../ch_1/figure/my/iloveimg-converted/2267243A593A011534-0008.jpg', '../ch_1/figure/my/iloveimg-converted/2267243A593A011534-0009.jpg', '../ch_1/figure/my/iloveimg-converted/2267243A593A011534-0010.jpg', '../ch_1/figure/my/iloveimg-converted/2267243A593A011534-0011.jpg', '../ch_1/figure/my/iloveimg-converted/2267243A593A011534-0012.jpg', '../ch_1/figure/my/iloveimg-converted/2267243A593A011534-0013.jpg', '../ch_1/figure/my/iloveimg-converted/2267243A593A011534-0014.jpg', '../ch_1/figure/my/iloveimg-converted/2267243A593A011534-0015.jpg', '../ch_1/figure/my/iloveimg-converted/2267243A593A011534-0016.jpg', '../ch_1/figure/my/iloveimg-converted/2267243A593A011534-0017.jpg', '../ch_1/figure/my/iloveimg-converted/2267243A593A011534-0018.jpg', '../ch_1/figure/my/iloveimg-converted/2267243A593A011534-0019.jpg', '../ch_1/figure/my/iloveimg-converted/2267243A593A011534-0020.jpg', '../ch_1/figure/my/iloveimg-converted/2267243A593A011534-0021.jpg', '../ch_1/figure/my/iloveimg-converted/2267243A593A011534-0022.jpg', '../ch_1/figure/my/iloveimg-converted/2267243A593A011534-0023.jpg', '../ch_1/figure/my/iloveimg-converted/2267243A593A011534-0024.jpg', '../ch_1/figure/my/iloveimg-converted/2267243A593A011534-0025.jpg', '../ch_1/figure/my/iloveimg-converted/2267243A593A011534-0026.jpg', '../ch_1/figure/my/iloveimg-converted/2267243A593A011534-0027.jpg', '../ch_1/figure/my/iloveimg-converted/2267243A593A011534-0028.jpg', '../ch_1/figure/my/iloveimg-converted/2267243A593A011534-0029.jpg', '../ch_1/figure/my/iloveimg-converted/2267243A593A011534-0030.jpg', '../ch_1/figure/my/iloveimg-converted/2267243A593A011534-0031.jpg', '../ch_1/figure/my/iloveimg-converted/2267243A593A011534-0032.jpg', '../ch_1/figure/my/iloveimg-converted/2267243A593A011534-0033.jpg', '../ch_1/figure/my/iloveimg-converted/2267243A593A011534-0034.jpg', '../ch_1/figure/my/iloveimg-converted/2267243A593A011534-0035.jpg', '../ch_1/figure/my/iloveimg-converted/2267243A593A011534-0036.jpg', '../ch_1/figure/my/iloveimg-converted/2267243A593A011534-0037.jpg', '../ch_1/figure/my/iloveimg-converted/2267243A593A011534-0038.jpg', '../ch_1/figure/my/iloveimg-converted/2267243A593A011534-0039.jpg', '../ch_1/figure/my/iloveimg-converted/2267243A593A011534-0040.jpg', '../ch_1/figure/my/iloveimg-converted/2267243A593A011534-0041.jpg', '../ch_1/figure/my/iloveimg-converted/2267243A593A011534-0042.jpg', '../ch_1/figure/my/iloveimg-converted/2267243A593A011534-0043.jpg', '../ch_1/figure/my/iloveimg-converted/2267243A593A011534-0044.jpg', '../ch_1/figure/my/iloveimg-converted/2267243A593A011534-0045.jpg', '../ch_1/figure/my/iloveimg-converted/2267243A593A011534-0046.jpg', '../ch_1/figure/my/iloveimg-converted/2267243A593A011534-0047.jpg', '../ch_1/figure/my/iloveimg-converted/2267243A593A011534-0048.jpg', '../ch_1/figure/my/iloveimg-converted/2267243A593A011534-0049.jpg', '../ch_1/figure/my/iloveimg-converted/2267243A593A011534-0050.jpg', '../ch_1/figure/my/iloveimg-converted/2267243A593A011534-0051.jpg', '../ch_1/figure/my/iloveimg-converted/2267243A593A011534-0052.jpg', '../ch_1/figure/my/iloveimg-converted/2267243A593A011534-0053.jpg', '../ch_1/figure/my/iloveimg-converted/2267243A593A011534-0054.jpg', '../ch_1/figure/my/iloveimg-converted/2267243A593A011534-0055.jpg', '../ch_1/figure/my/iloveimg-converted/2267243A593A011534-0056.jpg', '../ch_1/figure/my/iloveimg-converted/2267243A593A011534-0057.jpg', '../ch_1/figure/my/iloveimg-converted/2267243A593A011534-0058.jpg', '../ch_1/figure/my/iloveimg-converted/2267243A593A011534-0059.jpg', '../ch_1/figure/my/iloveimg-converted/2267243A593A011534-0060.jpg', '../ch_1/figure/my/iloveimg-converted/2267243A593A011534-0061.jpg', '../ch_1/figure/my/iloveimg-converted/2267243A593A011534-0062.jpg', '../ch_1/figure/my/iloveimg-converted/2267243A593A011534-0063.jpg', '../ch_1/figure/my/iloveimg-converted/2267243A593A011534-0064.jpg', '../ch_1/figure/my/iloveimg-converted/2267243A593A011534-0065.jpg', '../ch_1/figure/my/iloveimg-converted/2267243A593A011534-0066.jpg', '../ch_1/figure/my/iloveimg-converted/2267243A593A011534-0067.jpg', '../ch_1/figure/my/iloveimg-converted/2267243A593A011534-0068.jpg', '../ch_1/figure/my/iloveimg-converted/2267243A593A011534-0069.jpg', '../ch_1/figure/my/iloveimg-converted/2267243A593A011534-0070.jpg', '../ch_1/figure/my/iloveimg-converted/2267243A593A011534-0071.jpg', '../ch_1/figure/my/iloveimg-converted/2267243A593A011534-0072.jpg', '../ch_1/figure/my/iloveimg-converted/2267243A593A011534-0073.jpg', '../ch_1/figure/my/iloveimg-converted/2267243A593A011534-0074.jpg', '../ch_1/figure/my/iloveimg-converted/2267243A593A011534-0075.jpg', '../ch_1/figure/my/iloveimg-converted/2267243A593A011534-0076.jpg', '../ch_1/figure/my/iloveimg-converted/2267243A593A011534-0077.jpg', '../ch_1/figure/my/iloveimg-converted/2267243A593A011534-0078.jpg', '../ch_1/figure/my/iloveimg-converted/2267243A593A011534-0079.jpg', '../ch_1/figure/my/iloveimg-converted/2267243A593A011534-0080.jpg', '../ch_1/figure/my/iloveimg-converted/2267243A593A011534-0081.jpg', '../ch_1/figure/my/iloveimg-converted/2267243A593A011534-0082.jpg', '../ch_1/figure/my/iloveimg-converted/2267243A593A011534-0083.jpg', '../ch_1/figure/my/iloveimg-converted/2267243A593A011534-0084.jpg', '../ch_1/figure/my/iloveimg-converted/2267243A593A011534-0085.jpg', '../ch_1/figure/my/iloveimg-converted/2267243A593A011534-0086.jpg', '../ch_1/figure/my/iloveimg-converted/2267243A593A011534-0087.jpg', '../ch_1/figure/my/iloveimg-converted/2267243A593A011534-0088.jpg', '../ch_1/figure/my/iloveimg-converted/2267243A593A011534-0089.jpg', '../ch_1/figure/my/iloveimg-converted/2267243A593A011534-0090.jpg', '../ch_1/figure/my/iloveimg-converted/2267243A593A011534-0091.jpg', '../ch_1/figure/my/iloveimg-converted/2267243A593A011534-0092.jpg', '../ch_1/figure/my/iloveimg-converted/2267243A593A011534-0093.jpg', '../ch_1/figure/my/iloveimg-converted/2267243A593A011534-0094.jpg', '../ch_1/figure/my/iloveimg-converted/2267243A593A011534-0095.jpg', '../ch_1/figure/my/iloveimg-converted/2267243A593A011534-0096.jpg', '../ch_1/figure/my/iloveimg-converted/2267243A593A011534-0097.jpg']\n"
     ]
    }
   ],
   "source": [
    "img_my_files = []\n",
    "\n",
    "for i in img_files_my:\n",
    "    img_my_path = '../ch_1/figure/my/iloveimg-converted/' + i\n",
    "    img_my_files.append(img_my_path)\n",
    "    \n",
    "print(img_my_files)"
   ]
  },
  {
   "cell_type": "code",
   "execution_count": 7,
   "id": "35f8caac",
   "metadata": {},
   "outputs": [],
   "source": [
    "cv2.namedWindow('image', cv2.WINDOW_NORMAL)\n",
    "cv2.setWindowProperty('image', cv2.WND_PROP_FULLSCREEN, cv2.WINDOW_NORMAL)\n",
    "\n",
    "idx = 0\n",
    "while True:\n",
    "    img = cv2.imread(img_my_files[idx])\n",
    "    \n",
    "    cv2.imshow('image', img)\n",
    "    \n",
    "    if cv2.waitKey(90) == 27:\n",
    "        break\n",
    "        \n",
    "    idx += 1\n",
    "    \n",
    "    if idx >= len(img_my_files):\n",
    "        idx = 0\n",
    "        \n",
    "cv2.destroyAllWindows()"
   ]
  },
  {
   "cell_type": "code",
   "execution_count": null,
   "id": "7d72777e",
   "metadata": {},
   "outputs": [],
   "source": []
  },
  {
   "cell_type": "code",
   "execution_count": 11,
   "id": "02520823",
   "metadata": {},
   "outputs": [
    {
     "name": "stdout",
     "output_type": "stream",
     "text": [
      "<class 'numpy.ndarray'>\n",
      "(480, 640)\n",
      "(853, 1280, 3)\n",
      "\n",
      "uint8\n",
      "uint8\n",
      "\n",
      "img1 size = 640x480\n",
      "\n",
      "img2 size = 1280x853\n",
      "\n"
     ]
    }
   ],
   "source": [
    "img1 = cv2.imread('../ch_1/figure/fig/puppy.bmp', cv2.IMREAD_GRAYSCALE)\n",
    "img2 = cv2.imread('../ch_1/figure/fig/puppy_1280_853.jpg', cv2.IMREAD_COLOR)\n",
    "\n",
    "if img1 is None or img2 is None:\n",
    "    sys.exit()\n",
    "    \n",
    "print(type(img1))\n",
    "print(img1.shape)\n",
    "print(img2.shape); print()\n",
    "\n",
    "print(img1.dtype)\n",
    "print(img2.dtype); print()\n",
    "\n",
    "h, w = img1.shape\n",
    "print('img1 size = {}x{}'.format(w, h)); print()\n",
    "\n",
    "h2, w2 = img2.shape[:2]\n",
    "print('img2 size = {}x{}'.format(w2, h2)); print()"
   ]
  },
  {
   "cell_type": "code",
   "execution_count": 17,
   "id": "ed05fdff",
   "metadata": {},
   "outputs": [
    {
     "name": "stdout",
     "output_type": "stream",
     "text": [
      "image center value :  20\n"
     ]
    }
   ],
   "source": [
    "img1 = cv2.imread('../ch_1/figure/fig/puppy.bmp', cv2.IMREAD_GRAYSCALE)\n",
    "img2 = cv2.imread('../ch_1/figure/fig/puppy.bmp', cv2.IMREAD_COLOR)\n",
    "\n",
    "x = 320\n",
    "y = 240\n",
    "\n",
    "p1 = img1[y, x]\n",
    "print('image center value : ', p1)\n",
    "\n",
    "img1[10:100, 100:200] = 255\n",
    "img2[10:100, 100:200] = (0, 0, 255)\n",
    "\n",
    "cv2.imshow('image', img1)\n",
    "cv2.imshow('image2', img2)\n",
    "\n",
    "cv2.waitKey()\n",
    "cv2.destroyAllWindows()"
   ]
  },
  {
   "cell_type": "code",
   "execution_count": 23,
   "id": "5b1c573e",
   "metadata": {},
   "outputs": [],
   "source": [
    "img1 = np.zeros((240, 329, 3), dtype = np.uint8)           # dtype 반드시 명시!!\n",
    "img2 = np.ones((240, 329), dtype = np.uint8)*255\n",
    "img3 = np.full((240, 320, 3), (0, 255, 255), dtype = np.uint8)\n",
    "img4 = np.random.randint(0, 255, (240, 320), dtype = np.uint8)\n",
    "\n",
    "cv2.imshow('img1', img1)\n",
    "cv2.imshow('img2', img2)\n",
    "cv2.imshow('img3', img3)\n",
    "cv2.imshow('img4', img4)\n",
    "\n",
    "cv2.waitKey()\n",
    "cv2.destroyAllWindows()"
   ]
  },
  {
   "cell_type": "code",
   "execution_count": 28,
   "id": "90223b03",
   "metadata": {},
   "outputs": [],
   "source": [
    "img1 = cv2.imread('../ch_1/figure/fig/puppy.bmp', 1)\n",
    "\n",
    "if img is None:\n",
    "    print('failed')\n",
    "    sys.exit()\n",
    "    \n",
    "img2 = img1                                         # 주소를 복사한 것으로 copy 사용을 권장\n",
    "img3 = img1.copy()\n",
    "\n",
    "img1[200:300, 200:400] = (100, 0, 255)\n",
    "    \n",
    "cv2.imshow('img1', img1)\n",
    "cv2.imshow('img2', img2)\n",
    "cv2.imshow('img3', img3)\n",
    "\n",
    "cv2.waitKey()\n",
    "cv2.destroyAllWindows()"
   ]
  },
  {
   "cell_type": "code",
   "execution_count": 32,
   "id": "e9996394",
   "metadata": {},
   "outputs": [],
   "source": [
    "## 영상 복사 (구간)\n",
    "\n",
    "img1 = cv2.imread('../ch_1/figure/fig/puppy.bmp', 1)\n",
    "\n",
    "img2 = img1[200:400, 300:500]\n",
    "img3 = img1[200:400, 300:500].copy()\n",
    "\n",
    "cv2.circle(img2, (100, 100), 50, (0, 0, 255), 3)\n",
    "\n",
    "if img is None:\n",
    "    print('failed')\n",
    "    sys.exit()\n",
    "    \n",
    "cv2.imshow('img1', img1)\n",
    "cv2.imshow('img2', img2)\n",
    "cv2.imshow('img3', img3)\n",
    "\n",
    "cv2.waitKey()\n",
    "cv2.destroyAllWindows()"
   ]
  },
  {
   "cell_type": "code",
   "execution_count": null,
   "id": "f4a541a9",
   "metadata": {},
   "outputs": [],
   "source": []
  },
  {
   "cell_type": "code",
   "execution_count": 3,
   "id": "a5525c01",
   "metadata": {},
   "outputs": [],
   "source": [
    "img_1 = cv2.imread('../ch_1/figure/fig/puppy.bmp', 1)\n",
    "img_2 = img_1.copy()\n",
    "\n",
    "cv2.circle(img_2, (420, 290), 50, (0, 0, 255), 3)\n",
    "\n",
    "if img_1 is None or img_2 is None:\n",
    "    print('failed')\n",
    "    sys.exit()\n",
    "    \n",
    "while True:\n",
    "    cv2.imshow('image', img_1)\n",
    "    if cv2.waitKey(3000) == 27:\n",
    "        break\n",
    "    cv2.imshow('image', img_2)\n",
    "    if cv2.waitKey(500) == 27:\n",
    "        break\n",
    "    continue\n",
    "\n",
    "cv2.destroyAllWindows()"
   ]
  },
  {
   "cell_type": "code",
   "execution_count": 19,
   "id": "d54d08e3",
   "metadata": {},
   "outputs": [],
   "source": [
    "img_my_1 = cv2.imread('../ch_1/figure/save/my_my.png', 1)\n",
    "img_my_resize = cv2.resize(img_my_1, (300, 400), interpolation = cv2.INTER_AREA)\n",
    "\n",
    "img_my_2 = img_my_resize.copy()\n",
    "\n",
    "cv2.circle(img_my_2, (142, 184), 15, (0, 0, 255), 2)\n",
    "\n",
    "if img_my_resize is None or img_my_2 is None:\n",
    "    print('failed')\n",
    "    sys.exit()\n",
    "    \n",
    "while True:\n",
    "    cv2.imshow('img_my', img_my_resize)\n",
    "    if cv2.waitKey(3000) == 27:\n",
    "        break\n",
    "    cv2.imshow('img_my', img_my_2)\n",
    "    if cv2.waitKey(200) == 27:\n",
    "        break\n",
    "    continue\n",
    "    \n",
    "cv2.destroyAllWindows()"
   ]
  }
 ],
 "metadata": {
  "kernelspec": {
   "display_name": "Python 3 (ipykernel)",
   "language": "python",
   "name": "python3"
  },
  "language_info": {
   "codemirror_mode": {
    "name": "ipython",
    "version": 3
   },
   "file_extension": ".py",
   "mimetype": "text/x-python",
   "name": "python",
   "nbconvert_exporter": "python",
   "pygments_lexer": "ipython3",
   "version": "3.7.11"
  }
 },
 "nbformat": 4,
 "nbformat_minor": 5
}
