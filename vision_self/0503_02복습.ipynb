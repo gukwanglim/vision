{
 "cells": [
  {
   "cell_type": "code",
   "execution_count": 1,
   "id": "c737a508",
   "metadata": {},
   "outputs": [],
   "source": [
    "import cv2, os, sys\n",
    "import numpy as np\n",
    "\n",
    "import matplotlib.pyplot as plt"
   ]
  },
  {
   "cell_type": "code",
   "execution_count": 2,
   "id": "e282948f",
   "metadata": {},
   "outputs": [],
   "source": [
    "img = cv2.imread('../ch_1/figure/fig/cat.bmp')\n",
    "\n",
    "if img is None:\n",
    "    print('image load failed')\n",
    "    sys.exit()\n",
    "    \n",
    "cv2.namedWindow('image')\n",
    "cv2.imshow('image', img)\n",
    "\n",
    "while True:\n",
    "    key = cv2.waitKey()\n",
    "    \n",
    "    if key == 27:\n",
    "        break\n",
    "        \n",
    "cv2.destroyAllWindows()"
   ]
  },
  {
   "cell_type": "code",
   "execution_count": 4,
   "id": "c8199aeb",
   "metadata": {},
   "outputs": [],
   "source": [
    "img_lists = os.listdir('../ch_1/figure/images/')\n",
    "\n",
    "img_path = []\n",
    "\n",
    "for i in img_lists:\n",
    "    img_name = '../ch_1/figure/images/' + i\n",
    "    img_path.append(img_name)\n",
    "    \n",
    "# print(img_path)\n",
    "\n",
    "cv2.namedWindow('scene', cv2.WINDOW_NORMAL)\n",
    "cv2.setWindowProperty('scene', cv2.WND_PROP_FULLSCREEN,\n",
    "                     cv2.WINDOW_FULLSCREEN)\n",
    "\n",
    "idx = 0\n",
    "\n",
    "while True:\n",
    "    img = cv2.imread(img_path[idx])\n",
    "    \n",
    "    if img is None:\n",
    "        print('read failed')\n",
    "        break\n",
    "        \n",
    "    cv2.imshow('scene', img)\n",
    "    \n",
    "    if cv2.waitKey(3000) == 27:\n",
    "        break\n",
    "        \n",
    "    idx += 1\n",
    "    if idx >= len(img_path):\n",
    "        idx = 0\n",
    "        \n",
    "cv2.destroyAllWindows()\n",
    "    "
   ]
  },
  {
   "cell_type": "code",
   "execution_count": 5,
   "id": "e93754ec",
   "metadata": {},
   "outputs": [],
   "source": [
    "src = cv2.imread('../ch_1/figure/fig/airplane.bmp')\n",
    "mask = cv2.imread('../ch_1/figure/fig/mask_plane.bmp')\n",
    "dst = cv2.imread('../ch_1/figure/fig/field.bmp')\n",
    "\n",
    "cv2.copyTo(src, mask, dst)\n",
    "\n",
    "cv2.imshow('src', src)\n",
    "cv2.imshow('mask', mask)\n",
    "cv2.imshow('dst', dst)\n",
    "\n",
    "cv2.waitKey()\n",
    "cv2.destroyAllWindows()"
   ]
  },
  {
   "cell_type": "code",
   "execution_count": 9,
   "id": "6133bf85",
   "metadata": {},
   "outputs": [],
   "source": [
    "img = np.full((600, 1200, 3), 255, np.uint8)\n",
    "\n",
    "cv2.line(img, (50, 50), (200, 50), (0, 0, 255), 3)\n",
    "cv2.arrowedLine(img, (200, 50), (200, 200), (255, 0, 255), 3)\n",
    "\n",
    "cv2.rectangle(img, (50, 300), (100, 400), (255, 0, 0), -1)\n",
    "cv2.rectangle(img, (50, 300, 100, 400), (255, 0, 0), 4)\n",
    "\n",
    "cv2.circle(img, (500, 300), 100, (0, 255, 255), 3, cv2.LINE_AA)\n",
    "cv2.putText(img, 'Opencv', (500, 300), cv2.FONT_HERSHEY_SCRIPT_SIMPLEX,\n",
    "           1, (0, 0, 0), 2, cv2.LINE_AA)\n",
    "\n",
    "cv2.imshow('img', img)\n",
    "\n",
    "cv2.waitKey()\n",
    "cv2.destroyAllWindows()"
   ]
  },
  {
   "cell_type": "code",
   "execution_count": 10,
   "id": "1fdd7bc7",
   "metadata": {},
   "outputs": [],
   "source": [
    "cap = cv2.VideoCapture(0)\n",
    "\n",
    "if not cap.isOpened():\n",
    "    print('video open failed')\n",
    "    sys.exit()\n",
    "    \n",
    "w = int(cap.get(cv2.CAP_PROP_FRAME_WIDTH))\n",
    "h = int(cap.get(cv2.CAP_PROP_FRAME_HEIGHT))\n",
    "fps = int(cap.get(cv2.CAP_PROP_FPS))\n",
    "fourcc = cv2.VideoWriter_fourcc(*'DIVX')\n",
    "\n",
    "out = cv2.VideoWriter('output.avi', fourcc, fps, (w, h))\n",
    "\n",
    "while True:\n",
    "    ret, frame = cap.read()\n",
    "    \n",
    "    if not ret:\n",
    "        print('frame open failed')\n",
    "        break\n",
    "    out.write(frame)\n",
    "    \n",
    "    cv2.imshow('image', frame)\n",
    "    \n",
    "    if cv2.waitKey(30) == 27:\n",
    "        break\n",
    "        \n",
    "cap.release()\n",
    "out.release()\n",
    "\n",
    "cv2.destroyAllWindows()"
   ]
  },
  {
   "cell_type": "code",
   "execution_count": 2,
   "id": "7ccb1769",
   "metadata": {},
   "outputs": [
    {
     "name": "stdout",
     "output_type": "stream",
     "text": [
      "left button down 281 148\n",
      "left button down 391 376\n",
      "left button down 290 227\n"
     ]
    }
   ],
   "source": [
    "def call_mouse(event, x, y, flags, param):\n",
    "    global oldx, oldy\n",
    "    \n",
    "    if event == cv2.EVENT_LBUTTONDOWN:\n",
    "        oldx, oldy = x, y\n",
    "        \n",
    "    elif event =- cv2.EVENT_MOUSEMOVE:\n",
    "        if flags & cv2.EVENT_FLAG_LBUTTON:\n",
    "            cv2.line(img, (oldx, oldy), (x, y))\n",
    "       \n",
    "    \n",
    "img = np.ones((500, 600, 3), np.uint8)*255\n",
    "\n",
    "cv2.imshow('img', img)\n",
    "\n",
    "cv2.setMouseCallback('img', call_mouse, img)\n",
    "\n",
    "cv2.waitKey()\n",
    "cv2.destroyAllWindows()"
   ]
  },
  {
   "cell_type": "code",
   "execution_count": 6,
   "id": "58e57324",
   "metadata": {},
   "outputs": [],
   "source": [
    "def call_track(pos):\n",
    "    img[:] = img1 * (pos/255)\n",
    "    cv2.imshow('img', img)\n",
    "\n",
    "img = cv2.imread('../ch_1/figure/fig/airplane.bmp', 0)\n",
    "img1 =img.copy()\n",
    "\n",
    "cv2.imshow('img', img)\n",
    "\n",
    "cv2.createTrackbar('level', 'img', 0, 255, call_track)\n",
    "\n",
    "cv2.waitKey()\n",
    "cv2.destroyAllWindows()"
   ]
  },
  {
   "cell_type": "code",
   "execution_count": 10,
   "id": "cdb755f6",
   "metadata": {},
   "outputs": [],
   "source": [
    "src1 = cv2.imread('../Ch_3_Basic_img_proc/fig/lenna256.bmp', 0)\n",
    "src2 = np.zeros((256, 256), np.uint8)\n",
    "\n",
    "cv2.circle(src2, (128, 128), 100, 200, -1)\n",
    "cv2.circle(src2, (128, 128), 50, 50, -1)\n",
    "\n",
    "dst1 = cv2.add(src1, src2)\n",
    "dst2 = cv2.addWeighted(src1, 0.5, src2, 0.5, 0.)\n",
    "dst3 = cv2.subtract(src2, src1)\n",
    "dst4 = cv2.absdiff(src1, src2)\n",
    "\n",
    "cv2.imshow('src1', src1)\n",
    "cv2.imshow('src2', src2)\n",
    "cv2.imshow('dst1', dst1)\n",
    "cv2.imshow('dst2', dst2)\n",
    "cv2.imshow('dst3', dst3)\n",
    "cv2.imshow('dst4', dst4)\n",
    "\n",
    "cv2.waitKey()\n",
    "cv2.destroyAllWindows()"
   ]
  },
  {
   "cell_type": "code",
   "execution_count": 19,
   "id": "8b46b413",
   "metadata": {},
   "outputs": [
    {
     "data": {
      "image/png": "[encoded data removed]",
      "text/plain": [
       "<Figure size 432x288 with 1 Axes>"
      ]
     },
     "metadata": {
      "needs_background": "light"
     },
     "output_type": "display_data"
    }
   ],
   "source": [
    "src = cv2.imread('../ch_1/figure/cat.bmp')\n",
    "\n",
    "hist_b = cv2.calcHist([src], [0], None, [256], [0, 256])\n",
    "hist_g = cv2.calcHist([src], [1], None, [256], [0, 256])\n",
    "hist_r = cv2.calcHist([src], [2], None, [256], [0, 256])\n",
    "\n",
    "cv2.imshow('src', src)\n",
    "\n",
    "plt.plot(hist_b, hist_g, hist_r)\n",
    "plt.show()\n",
    "\n",
    "cv2.waitKey()\n",
    "cv2.destroyAllWindows()"
   ]
  },
  {
   "cell_type": "code",
   "execution_count": 18,
   "id": "20c0b3dd",
   "metadata": {},
   "outputs": [],
   "source": [
    "src = cv2.imread('../ch_4/puppy_shrink.png', 0)\n",
    "\n",
    "src_norm = cv2.normalize(src, None, 0, 255, cv2.NORM_MINMAX)\n",
    "src_equal = cv2.equalizeHist(src)\n",
    "\n",
    "cv2.imshow('src', src)\n",
    "cv2.imshow('src_norm', src_norm)\n",
    "cv2.imshow('src_equal', src_equal)\n",
    "\n",
    "cv2.waitKey()\n",
    "cv2.destroyAllWindows()"
   ]
  },
  {
   "cell_type": "code",
   "execution_count": 21,
   "id": "7ae0f7ab",
   "metadata": {},
   "outputs": [],
   "source": [
    "src = cv2.imread('../Ch_3_Basic_img_proc/fig/flowers.jpg', 1)\n",
    "\n",
    "src_hsv = cv2.cvtColor(src, cv2.COLOR_BGR2HSV)\n",
    "\n",
    "h, s, v = cv2.split(src_hsv)\n",
    "\n",
    "v_norm = cv2.normalize(v, None, 0, 255, cv2.NORM_MINMAX)\n",
    "v_equal = cv2.equalizeHist(v)\n",
    "\n",
    "src_norm = cv2.merge((h, s, v_norm))\n",
    "src_equal = cv2.merge((h, s, v_equal))\n",
    "\n",
    "src_norm = cv2.cvtColor(src_norm, cv2.COLOR_HSV2BGR)\n",
    "src_equal = cv2.cvtColor(src_equal, cv2.COLOR_HSV2BGR)\n",
    "\n",
    "cv2.imshow('src', src)\n",
    "cv2.imshow('src_norm', src_norm)\n",
    "cv2.imshow('src_equal', src_equal)\n",
    "\n",
    "cv2.waitKey()\n",
    "cv2.destroyAllWindows()"
   ]
  },
  {
   "cell_type": "code",
   "execution_count": 4,
   "id": "6ff08fee",
   "metadata": {},
   "outputs": [
    {
     "ename": "error",
     "evalue": "OpenCV(4.5.5) D:\\a\\opencv-python\\opencv-python\\opencv\\modules\\highgui\\src\\window.cpp:862: error: (-215:Assertion failed) trackbar in function 'cv::getTrackbarPos'\n",
     "output_type": "error",
     "traceback": [
      "\u001b[1;31m---------------------------------------------------------------------------\u001b[0m",
      "\u001b[1;31merror\u001b[0m                                     Traceback (most recent call last)",
      "\u001b[1;32m~\\AppData\\Local\\Temp/ipykernel_4792/2748354017.py\u001b[0m in \u001b[0;36mcall_track\u001b[1;34m(pos)\u001b[0m\n\u001b[0;32m      1\u001b[0m \u001b[1;32mdef\u001b[0m \u001b[0mcall_track\u001b[0m\u001b[1;33m(\u001b[0m\u001b[0mpos\u001b[0m\u001b[1;33m)\u001b[0m\u001b[1;33m:\u001b[0m\u001b[1;33m\u001b[0m\u001b[1;33m\u001b[0m\u001b[0m\n\u001b[0;32m      2\u001b[0m     \u001b[0mhmin\u001b[0m \u001b[1;33m=\u001b[0m \u001b[0mcv2\u001b[0m\u001b[1;33m.\u001b[0m\u001b[0mgetTrackbarPos\u001b[0m\u001b[1;33m(\u001b[0m\u001b[1;34m'h_min'\u001b[0m\u001b[1;33m,\u001b[0m \u001b[1;34m'src'\u001b[0m\u001b[1;33m)\u001b[0m\u001b[1;33m\u001b[0m\u001b[1;33m\u001b[0m\u001b[0m\n\u001b[1;32m----> 3\u001b[1;33m     \u001b[0mhmax\u001b[0m \u001b[1;33m=\u001b[0m \u001b[0mcv2\u001b[0m\u001b[1;33m.\u001b[0m\u001b[0mgetTrackbarPos\u001b[0m\u001b[1;33m(\u001b[0m\u001b[1;34m'h_max'\u001b[0m\u001b[1;33m,\u001b[0m \u001b[1;34m'src'\u001b[0m\u001b[1;33m)\u001b[0m\u001b[1;33m\u001b[0m\u001b[1;33m\u001b[0m\u001b[0m\n\u001b[0m\u001b[0;32m      4\u001b[0m     \u001b[0mdst\u001b[0m \u001b[1;33m=\u001b[0m \u001b[0mcv2\u001b[0m\u001b[1;33m.\u001b[0m\u001b[0minRange\u001b[0m\u001b[1;33m(\u001b[0m\u001b[0mimg_hsv\u001b[0m\u001b[1;33m,\u001b[0m \u001b[1;33m(\u001b[0m\u001b[0mhmin\u001b[0m\u001b[1;33m,\u001b[0m \u001b[1;36m150\u001b[0m\u001b[1;33m,\u001b[0m \u001b[1;36m0\u001b[0m\u001b[1;33m)\u001b[0m\u001b[1;33m,\u001b[0m \u001b[1;33m(\u001b[0m\u001b[0mhmax\u001b[0m\u001b[1;33m,\u001b[0m \u001b[1;36m255\u001b[0m\u001b[1;33m,\u001b[0m \u001b[1;36m255\u001b[0m\u001b[1;33m)\u001b[0m\u001b[1;33m)\u001b[0m\u001b[1;33m\u001b[0m\u001b[1;33m\u001b[0m\u001b[0m\n\u001b[0;32m      5\u001b[0m     \u001b[0mcv2\u001b[0m\u001b[1;33m.\u001b[0m\u001b[0mimshow\u001b[0m\u001b[1;33m(\u001b[0m\u001b[1;34m'src'\u001b[0m\u001b[1;33m,\u001b[0m \u001b[0mdst\u001b[0m\u001b[1;33m)\u001b[0m\u001b[1;33m\u001b[0m\u001b[1;33m\u001b[0m\u001b[0m\n",
      "\u001b[1;31merror\u001b[0m: OpenCV(4.5.5) D:\\a\\opencv-python\\opencv-python\\opencv\\modules\\highgui\\src\\window.cpp:862: error: (-215:Assertion failed) trackbar in function 'cv::getTrackbarPos'\n"
     ]
    }
   ],
   "source": [
    "def call_track(pos):\n",
    "    hmin = cv2.getTrackbarPos('h_min', 'src')\n",
    "    hmax = cv2.getTrackbarPos('h_max', 'src')\n",
    "    dst = cv2.inRange(img_hsv, (hmin, 150, 0), (hmax, 255, 255))\n",
    "    cv2.imshow('src', dst)\n",
    "\n",
    "img = cv2.imread('../ch_4/palette.png')\n",
    "img_hsv = cv2.cvtColor(img, cv2.COLOR_BGR2HSV)\n",
    "\n",
    "# dst_bgr = cv2.inRange(img, (100, 0, 0), (255, 50, 50))\n",
    "# dst_hsv = cv2.inRange(img_hsv, (110, 200, 150), (130, 255, 255))\n",
    "\n",
    "cv2.imshow('src', img)\n",
    "\n",
    "cv2.createTrackbar('h_min', 'src', 50, 179, call_track)\n",
    "cv2.createTrackbar('h_max', 'src', 80, 179, call_track)\n",
    "\n",
    "cv2.waitKey()\n",
    "cv2.destroyAllWindows()"
   ]
  },
  {
   "cell_type": "code",
   "execution_count": null,
   "id": "7c8b94a8",
   "metadata": {},
   "outputs": [],
   "source": []
  },
  {
   "cell_type": "code",
   "execution_count": null,
   "id": "9f49e3dd",
   "metadata": {},
   "outputs": [],
   "source": []
  },
  {
   "cell_type": "code",
   "execution_count": null,
   "id": "b92cd782",
   "metadata": {},
   "outputs": [],
   "source": []
  },
  {
   "cell_type": "code",
   "execution_count": null,
   "id": "acf92666",
   "metadata": {},
   "outputs": [],
   "source": []
  },
  {
   "cell_type": "code",
   "execution_count": null,
   "id": "2c5b619b",
   "metadata": {},
   "outputs": [],
   "source": []
  },
  {
   "cell_type": "code",
   "execution_count": null,
   "id": "2aa47b53",
   "metadata": {},
   "outputs": [],
   "source": []
  },
  {
   "cell_type": "code",
   "execution_count": null,
   "id": "77d06a85",
   "metadata": {},
   "outputs": [],
   "source": []
  },
  {
   "cell_type": "code",
   "execution_count": null,
   "id": "e07bef7e",
   "metadata": {},
   "outputs": [],
   "source": []
  }
 ],
 "metadata": {
  "kernelspec": {
   "display_name": "Python 3 (ipykernel)",
   "language": "python",
   "name": "python3"
  },
  "language_info": {
   "codemirror_mode": {
    "name": "ipython",
    "version": 3
   },
   "file_extension": ".py",
   "mimetype": "text/x-python",
   "name": "python",
   "nbconvert_exporter": "python",
   "pygments_lexer": "ipython3",
   "version": "3.7.11"
  }
 },
 "nbformat": 4,
 "nbformat_minor": 5
}
