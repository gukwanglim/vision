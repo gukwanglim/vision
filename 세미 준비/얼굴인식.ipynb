{
 "cells": [
  {
   "cell_type": "code",
   "execution_count": 1,
   "id": "efa0c391",
   "metadata": {},
   "outputs": [],
   "source": [
    "import cv2\n",
    "import sys\n",
    "import os\n",
    "import numpy as np\n",
    "\n",
    "import matplotlib.pyplot as plt\n",
    "\n",
    "from keras.preprocessing.image import img_to_array\n",
    "from keras.models import load_model"
   ]
  },
  {
   "cell_type": "markdown",
   "id": "3798c873",
   "metadata": {},
   "source": [
    "[detectMultiScale 함수](https://deep-learning-study.tistory.com/244)"
   ]
  },
  {
   "cell_type": "markdown",
   "id": "fe24d0f8",
   "metadata": {},
   "source": [
    "[학습된 XML 파일](https://github.com/opencv/opencv/tree/master/data/haarcascades)"
   ]
  },
  {
   "cell_type": "code",
   "execution_count": 34,
   "id": "f28663e8",
   "metadata": {},
   "outputs": [],
   "source": [
    "## 이미지 불러오기\n",
    "\n",
    "# 가중치 파일 경로\n",
    "faceCascade = cv2.CascadeClassifier('haarcascade_frontalface_alt2.xml')\n",
    "\n",
    "if faceCascade.empty():\n",
    "    print('XML load failed')\n",
    "    sys.exit()\n",
    "    \n",
    "img = cv2.imread('./wow.jpg')\n",
    "\n",
    "if img is None:\n",
    "    print('image read failed')\n",
    "    sys.exit()\n",
    "\n",
    "cv2.namedWindow('img', cv2.WINDOW_NORMAL)\n",
    "    \n",
    "gray = cv2.cvtColor(img, cv2.COLOR_BGR2GRAY)\n",
    "\n",
    "# 얼굴에 박스를 만드는 함수(얼굴을 검출)\n",
    "faces = faceCascade.detectMultiScale(gray, scaleFactor = 1.1,\n",
    "                                    minNeighbors = 3, \n",
    "                                    minSize = (30, 30))\n",
    "\n",
    "# 각 행마다 (x, y, w, h)를 받아서 사각형을 그리는 코드\n",
    "for (x, y, w, h) in faces:\n",
    "    cv2.rectangle(img, (x,y), (x+w, y+h), (0, 255, 0), 2)\n",
    "\n",
    "cv2.imshow('img', img)\n",
    "\n",
    "cv2.waitKey()\n",
    "cv2.destroyAllWindows()"
   ]
  },
  {
   "cell_type": "code",
   "execution_count": 23,
   "id": "8757c4e5",
   "metadata": {},
   "outputs": [],
   "source": [
    "## 웹캠에서 가져오기\n",
    "\n",
    "cam_classifier = cv2.CascadeClassifier('haarcascade_frontalface_alt2.xml')\n",
    "\n",
    "if cam_classifier.empty():\n",
    "    print('XML load failed')\n",
    "    sys.exit()\n",
    "    \n",
    "video_capture = cv2.VideoCapture(0)\n",
    "\n",
    "if not video_capture.isOpened():\n",
    "    print('video open failed')\n",
    "    sys.exit()\n",
    "    \n",
    "while True:\n",
    "    ret, frame = video_capture.read()\n",
    "    gray_1 = cv2.cvtColor(frame, cv2.COLOR_BGR2GRAY)\n",
    "    \n",
    "    face = cam_classifier.detectMultiScale(gray_1, scaleFactor = 1.1,\n",
    "                                    minNeighbors = 3, \n",
    "                                    minSize = (30, 30))\n",
    "    \n",
    "    for (x, y, w, h) in face:\n",
    "        cv2.rectangle(frame, (x, y), (x+w, y+h), (0, 255, 0), 2)\n",
    "    \n",
    "    cv2.imshow('video', frame)\n",
    "    \n",
    "    if cv2.waitKey(30) == 27:\n",
    "        break\n",
    "        \n",
    "video_capture.release()\n",
    "cv2.destroyAllWindows()"
   ]
  },
  {
   "cell_type": "code",
   "execution_count": 17,
   "id": "b5c93d79",
   "metadata": {},
   "outputs": [],
   "source": [
    "import timeit"
   ]
  },
  {
   "cell_type": "code",
   "execution_count": 31,
   "id": "7f3d7732",
   "metadata": {},
   "outputs": [],
   "source": [
    "cam_classifier = cv2.CascadeClassifier('haarcascade_frontalface_alt2.xml')\n",
    "\n",
    "if cam_classifier.empty():\n",
    "    print('XML load failed')\n",
    "    sys.exit()\n",
    "    \n",
    "video = cv2.VideoCapture('sample.mp4')\n",
    "\n",
    "if not video.isOpened():\n",
    "    print('video open failed')\n",
    "    sys.exit()\n",
    "    \n",
    "while True:\n",
    "    \n",
    "    # 알고리즘 시작 시점\n",
    "    start_t = timeit.default_timer()  \n",
    "    \n",
    "    ret, frame = video.read()\n",
    "    gray_2 = cv2.cvtColor(frame, cv2.COLOR_BGR2GRAY)\n",
    "    \n",
    "    face = cam_classifier.detectMultiScale(gray_2, scaleFactor = 1.1,\n",
    "                                    minNeighbors = 6, \n",
    "                                    minSize = (30, 30))\n",
    "    \n",
    "    # 알고리즘 종료 시점\n",
    "    terminate_t = timeit.default_timer()\n",
    "    \n",
    "    FPS = 'fps' + str(int(1./(terminate_t - start_t)))\n",
    "    cv2.putText(frame, FPS, (30, 30), cv2.FONT_HERSHEY_SIMPLEX, 1, (0, 255, 0), 1)\n",
    "    \n",
    "    for (x, y, w, h) in face:\n",
    "        cv2.rectangle(frame, (x, y), (x+w, y+h), (0, 255, 0), 2)\n",
    "    \n",
    "    cv2.imshow('video', frame)\n",
    "    \n",
    "    if cv2.waitKey(1) == 27:\n",
    "        break\n",
    "        \n",
    "video.release()\n",
    "cv2.destroyAllWindows()"
   ]
  },
  {
   "cell_type": "code",
   "execution_count": null,
   "id": "f9111d18",
   "metadata": {},
   "outputs": [],
   "source": []
  }
 ],
 "metadata": {
  "kernelspec": {
   "display_name": "Python 3 (ipykernel)",
   "language": "python",
   "name": "python3"
  },
  "language_info": {
   "codemirror_mode": {
    "name": "ipython",
    "version": 3
   },
   "file_extension": ".py",
   "mimetype": "text/x-python",
   "name": "python",
   "nbconvert_exporter": "python",
   "pygments_lexer": "ipython3",
   "version": "3.9.7"
  }
 },
 "nbformat": 4,
 "nbformat_minor": 5
}
