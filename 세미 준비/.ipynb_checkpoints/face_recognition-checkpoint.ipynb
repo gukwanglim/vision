{
 "cells": [
  {
   "cell_type": "code",
   "execution_count": 1,
   "id": "4d3ccc77",
   "metadata": {},
   "outputs": [],
   "source": [
    "from PIL import Image\n",
    "import face_recognition\n",
    "\n",
    "import cv2"
   ]
  },
  {
   "cell_type": "code",
   "execution_count": 2,
   "id": "b54586e3",
   "metadata": {},
   "outputs": [
    {
     "name": "stdout",
     "output_type": "stream",
     "text": [
      "I found 1 face(s) in this photograph.\n",
      "Top : 0, Left : 29, Bottom : 150, Right : 184\n"
     ]
    }
   ],
   "source": [
    "image = face_recognition.load_image_file('./aaaaaa/10.jpg')\n",
    "\n",
    "face_loc = face_recognition.face_locations(image)\n",
    "\n",
    "print('I found {} face(s) in this photograph.'.format(len(face_loc)))\n",
    "\n",
    "for location in face_loc:\n",
    "    top, right, bottom, left = location\n",
    "    print('Top : {}, Left : {}, Bottom : {}, Right : {}'.format(top, left, bottom, right))\n",
    "    \n",
    "    face_image = image[top:bottom, left:right]\n",
    "    pil_image = Image.fromarray(face_image)\n",
    "    pil_image.show()"
   ]
  },
  {
   "cell_type": "code",
   "execution_count": 3,
   "id": "6b872120",
   "metadata": {},
   "outputs": [],
   "source": [
    "from PIL import Image, ImageDraw\n",
    "import face_recognition"
   ]
  },
  {
   "cell_type": "code",
   "execution_count": 4,
   "id": "7515acd5",
   "metadata": {},
   "outputs": [
    {
     "name": "stdout",
     "output_type": "stream",
     "text": [
      "I found 1 face(s) in this photograph\n",
      "The chin in this face has the following point : [(31, 60), (34, 82), (41, 104), (50, 125), (58, 145), (71, 166), (86, 183), (106, 197), (127, 200), (148, 193), (164, 177), (176, 156), (185, 133), (190, 108), (192, 85), (193, 60), (190, 37)]\n",
      "The left_eyebrow in this face has the following point : [(37, 35), (44, 24), (57, 19), (71, 18), (86, 20)]\n",
      "The right_eyebrow in this face has the following point : [(113, 16), (127, 9), (142, 6), (157, 7), (171, 16)]\n",
      "The nose_bridge in this face has the following point : [(104, 34), (106, 47), (108, 61), (110, 75)]\n",
      "The nose_tip in this face has the following point : [(94, 89), (103, 91), (112, 93), (121, 89), (129, 84)]\n",
      "The left_eye in this face has the following point : [(51, 48), (59, 41), (69, 39), (80, 45), (70, 49), (60, 51)]\n",
      "The right_eye in this face has the following point : [(129, 38), (137, 28), (148, 26), (159, 32), (150, 37), (139, 39)]\n",
      "The top_lip in this face has the following point : [(83, 129), (91, 112), (104, 104), (114, 105), (125, 101), (141, 106), (153, 120), (149, 121), (126, 110), (115, 112), (105, 112), (87, 128)]\n",
      "The bottom_lip in this face has the following point : [(153, 120), (146, 148), (131, 160), (119, 163), (108, 162), (93, 152), (83, 129), (87, 128), (106, 147), (117, 148), (129, 145), (149, 121)]\n"
     ]
    }
   ],
   "source": [
    "image = face_recognition.load_image_file('./aaaaaa/10.jpg')\n",
    "\n",
    "face_landmarks_list = face_recognition.face_landmarks(image)\n",
    "\n",
    "print('I found {} face(s) in this photograph'.format(len(face_landmarks_list)))\n",
    "\n",
    "# create a PIL imagedraw object so we can draw on the picture\n",
    "pil_image = Image.fromarray(image)\n",
    "d = ImageDraw.Draw(pil_image)\n",
    "\n",
    "for face_land in face_landmarks_list:\n",
    "    for feature in face_land.keys():\n",
    "        print('The {} in this face has the following point : {}'.format(feature, face_land[feature]))\n",
    "        \n",
    "    for feature in face_land.keys():\n",
    "        d.line(face_land[feature], width = 5)\n",
    "\n",
    "pil_image.show()"
   ]
  },
  {
   "cell_type": "markdown",
   "id": "0c9f403f",
   "metadata": {},
   "source": [
    "![image](./aaaaaa/20220511_004233.png)"
   ]
  },
  {
   "cell_type": "code",
   "execution_count": null,
   "id": "74a7f438",
   "metadata": {},
   "outputs": [],
   "source": []
  },
  {
   "cell_type": "code",
   "execution_count": null,
   "id": "7cbc0ae1",
   "metadata": {},
   "outputs": [],
   "source": []
  },
  {
   "cell_type": "code",
   "execution_count": null,
   "id": "0501a0fd",
   "metadata": {},
   "outputs": [],
   "source": []
  },
  {
   "cell_type": "code",
   "execution_count": null,
   "id": "b4e4549a",
   "metadata": {},
   "outputs": [],
   "source": []
  },
  {
   "cell_type": "code",
   "execution_count": null,
   "id": "4446dde7",
   "metadata": {},
   "outputs": [],
   "source": []
  },
  {
   "cell_type": "code",
   "execution_count": null,
   "id": "040c3ea5",
   "metadata": {},
   "outputs": [],
   "source": []
  },
  {
   "cell_type": "code",
   "execution_count": null,
   "id": "472b7ca3",
   "metadata": {},
   "outputs": [],
   "source": []
  },
  {
   "cell_type": "code",
   "execution_count": null,
   "id": "9d20893b",
   "metadata": {},
   "outputs": [],
   "source": []
  },
  {
   "cell_type": "code",
   "execution_count": null,
   "id": "b38b7833",
   "metadata": {},
   "outputs": [],
   "source": []
  },
  {
   "cell_type": "code",
   "execution_count": null,
   "id": "f2f82ac9",
   "metadata": {},
   "outputs": [],
   "source": []
  }
 ],
 "metadata": {
  "kernelspec": {
   "display_name": "Python 3 (ipykernel)",
   "language": "python",
   "name": "python3"
  },
  "language_info": {
   "codemirror_mode": {
    "name": "ipython",
    "version": 3
   },
   "file_extension": ".py",
   "mimetype": "text/x-python",
   "name": "python",
   "nbconvert_exporter": "python",
   "pygments_lexer": "ipython3",
   "version": "3.9.7"
  }
 },
 "nbformat": 4,
 "nbformat_minor": 5
}
